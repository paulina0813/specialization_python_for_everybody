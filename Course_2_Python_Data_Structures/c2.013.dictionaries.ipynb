{
 "cells": [
  {
   "cell_type": "markdown",
   "metadata": {},
   "source": [
    "# A Story of two Collections\n",
    "- List: A linear collection of values. Lookup byposition 0...length-1\n",
    "- Dictionary: A linear collection of key-value airs. Lookup by \"tag\" or \"key\"\n",
    "\n",
    "## Dictionaries\n",
    "- Dictionaries are Python's most powerful data collections\n",
    "- Dictionaries allow us to do fast database-like operations in Python\n",
    "- Similar concepts in different programming languages\n",
    "    - Associative Arrays - Perl / PHP\n",
    "    - Properties or Map or HashMap - Java\n",
    "    - Property Bag - C# / .Net\n",
    "- \"Insertion order\" is not \"always sorted order\"\n",
    "- Python lists, dictionaries, and tuples are \"abstract objects\" designed to be easy to use\n",
    "- We insert values into a Dictionary using a key and retrieve them using a key"
   ]
  },
  {
   "cell_type": "code",
   "execution_count": 1,
   "metadata": {},
   "outputs": [
    {
     "name": "stdout",
     "output_type": "stream",
     "text": [
      "{'summer': 12, 'fall': 3, 'spring': 75}\n",
      "3\n",
      "{'summer': 12, 'fall': 5, 'spring': 75}\n"
     ]
    }
   ],
   "source": [
    "cabinet = dict()\n",
    "cabinet['summer'] = 12\n",
    "cabinet['fall'] = 3\n",
    "cabinet['spring'] = 75\n",
    "print(cabinet)\n",
    "\n",
    "print(cabinet['fall'])\n",
    "\n",
    "cabinet['fall'] = cabinet['fall'] + 2\n",
    "\n",
    "print(cabinet)"
   ]
  },
  {
   "cell_type": "markdown",
   "metadata": {},
   "source": [
    "## Comparing Lists and Dictionaries\n",
    "- Dictionaries are like lists except that they use keys instead of numbers to loop up values\n",
    "\n",
    "## Dictionary Literals (Constants)\n",
    "- Dictionary literals use cursly braces and have a list of key:value pairs\n",
    "- You can make an empty dictionary using empty curly braces"
   ]
  },
  {
   "cell_type": "code",
   "execution_count": null,
   "metadata": {},
   "outputs": [],
   "source": [
    "jjj = {'chuck' : 1, 'fred' : 42, 'jan' : 100}\n",
    "print(jjj)\n",
    "\n",
    "ooo = {}\n",
    "print(ooo)"
   ]
  },
  {
   "cell_type": "markdown",
   "metadata": {},
   "source": [
    "## Many Counters with a Dictionary\n",
    "- One common use of dictionaries is counting how often we \"see\" something"
   ]
  },
  {
   "cell_type": "code",
   "execution_count": 2,
   "metadata": {},
   "outputs": [
    {
     "name": "stdout",
     "output_type": "stream",
     "text": [
      "{'csev': 1, 'cwen': 1}\n",
      "{'csev': 1, 'cwen': 2}\n"
     ]
    }
   ],
   "source": [
    "ccc = dict()\n",
    "ccc['csev'] = 1\n",
    "ccc['cwen'] = 1\n",
    "print(ccc)\n",
    "\n",
    "ccc['cwen'] = ccc['csev'] + 1\n",
    "print(ccc)"
   ]
  },
  {
   "cell_type": "markdown",
   "metadata": {},
   "source": [
    "## Dictionary Tracebacks\n",
    "- It is an error to reference a key which is not in the dictionary\n",
    "- We can use the in operator to see if a key is in the dictionary"
   ]
  },
  {
   "cell_type": "code",
   "execution_count": null,
   "metadata": {},
   "outputs": [],
   "source": [
    "ccc = dict()\n",
    "#print(ccc['csev'])\n",
    "'csev' in ccc"
   ]
  },
  {
   "cell_type": "markdown",
   "metadata": {},
   "source": [
    "# When we see a new name\n",
    "- When we encounter a new name, we need to add a new entry in the dictionary and if this is the second or later time we have seen the name, we simply add one to the  count in the dictionary under that name."
   ]
  },
  {
   "cell_type": "code",
   "execution_count": null,
   "metadata": {},
   "outputs": [],
   "source": [
    "counts = dict()\n",
    "names = ['csev' , 'cwen', 'csev', 'zqian', 'cwen']\n",
    "for name in names:\n",
    "    if name not in counts:\n",
    "        counts[name] = 1\n",
    "    else:\n",
    "        counts[name] = counts[name] + 1\n",
    "print(counts)"
   ]
  },
  {
   "cell_type": "markdown",
   "metadata": {},
   "source": [
    "## The get method for dictionaries\n",
    "- The pattern for checking to see if a key is already in a dictionary and assuming a default value if the key is not there is so common that there is a method called get() that does this for us.\n",
    "- Default value if key does not exist (and no Traceback)"
   ]
  },
  {
   "cell_type": "code",
   "execution_count": null,
   "metadata": {},
   "outputs": [],
   "source": [
    "if name in counts:\n",
    "    x = counts[name]\n",
    "else:\n",
    "    x = 0\n",
    "\n",
    "x = counts.get(name, 0)"
   ]
  },
  {
   "cell_type": "markdown",
   "metadata": {},
   "source": [
    "## Simplified counting with get()\n",
    "- We can use get() and provide a default value of zero when the key is not yet in the dictionary - and then just add one"
   ]
  },
  {
   "cell_type": "code",
   "execution_count": null,
   "metadata": {},
   "outputs": [],
   "source": [
    "counts = dict()\n",
    "names = ['csev' , 'cwen', 'csev', 'zqian', 'cwen']\n",
    "for name in names:\n",
    "    counts[name] = counts.get(name, 0) + 1\n",
    "print(counts)"
   ]
  },
  {
   "cell_type": "markdown",
   "metadata": {},
   "source": [
    "## Counting Pattern\n",
    "- The general pattern to count the words in a line of text is to split the line into words, then loop through the words and use a dictionary to track the count of each word independently."
   ]
  },
  {
   "cell_type": "code",
   "execution_count": 3,
   "metadata": {},
   "outputs": [
    {
     "name": "stdout",
     "output_type": "stream",
     "text": [
      "Words: ['This', 'is', 'a', 'test', 'line', 'of', 'code', 'that', 'will', 'be', 'used', 'for', 'this', 'block', 'of', 'code']\n",
      "Counting...\n",
      "Counts: {'This': 1, 'is': 1, 'a': 1, 'test': 1, 'line': 1, 'of': 2, 'code': 2, 'that': 1, 'will': 1, 'be': 1, 'used': 1, 'for': 1, 'this': 1, 'block': 1}\n"
     ]
    }
   ],
   "source": [
    "counts = dict()\n",
    "#print('Enter a line of text:')\n",
    "#line = input()\n",
    "line = \"This is a test line of code that will be used for this block of code\"\n",
    "\n",
    "words = line.split()\n",
    "\n",
    "print(\"Words:\", words)\n",
    "\n",
    "print(\"Counting...\")\n",
    "for word in words:\n",
    "    counts[word] = counts.get(word, 0) + 1\n",
    "print(\"Counts:\", counts)"
   ]
  },
  {
   "cell_type": "markdown",
   "metadata": {},
   "source": [
    "## Definite Loops and Dictionaries\n",
    "- Even though dictionaries are not stored in order, we can write a for loop that goes through all the entries in a dictionary - actually it goes through all of the keys in the dictionary and looks up the values"
   ]
  },
  {
   "cell_type": "code",
   "execution_count": null,
   "metadata": {},
   "outputs": [],
   "source": [
    "counts = {'chuck' : 1, 'fred' : 42, 'jan' : 100}\n",
    "for key in counts:\n",
    "    print(key, counts[key])"
   ]
  },
  {
   "cell_type": "markdown",
   "metadata": {},
   "source": [
    "## Retrieving lists of keys and values\n",
    "- You can get a list of keys, values, or items(both) from a dictionary"
   ]
  },
  {
   "cell_type": "code",
   "execution_count": null,
   "metadata": {},
   "outputs": [],
   "source": [
    "jjj = {'chuck' : 1, 'fred' : 42, 'jan' : 100}\n",
    "print(list(jjj))\n",
    "print(list(jjj.keys()))\n",
    "print(list(jjj.values()))\n",
    "print(list(jjj.items()))"
   ]
  },
  {
   "cell_type": "markdown",
   "metadata": {},
   "source": [
    "## Two iteration variables\n",
    "- We loop through the key-value pairs in a dictionary using *two* iteration variables\n",
    "- Each iteration, the first variable is the key and the second variable is the corresponding value of the key"
   ]
  },
  {
   "cell_type": "code",
   "execution_count": null,
   "metadata": {},
   "outputs": [],
   "source": [
    "jjj = {'chuck' : 1, 'fred' : 42, 'jan' : 100}\n",
    "for aaa, bbb in jjj.items():\n",
    "    print(aaa, bbb)"
   ]
  }
 ],
 "metadata": {
  "kernelspec": {
   "display_name": "Python 3",
   "language": "python",
   "name": "python3"
  },
  "language_info": {
   "codemirror_mode": {
    "name": "ipython",
    "version": 3
   },
   "file_extension": ".py",
   "mimetype": "text/x-python",
   "name": "python",
   "nbconvert_exporter": "python",
   "pygments_lexer": "ipython3",
   "version": "3.12.1"
  }
 },
 "nbformat": 4,
 "nbformat_minor": 2
}
