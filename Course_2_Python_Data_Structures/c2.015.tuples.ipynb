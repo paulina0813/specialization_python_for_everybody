{
 "cells": [
  {
   "cell_type": "markdown",
   "metadata": {},
   "source": [
    "# Tuples\n",
    "\n",
    "## Tuples are like Lists\n",
    "- Tuples are another kind of sequence that functions much like a list\n",
    "- They have elements which are indexed starting at 0"
   ]
  },
  {
   "cell_type": "code",
   "execution_count": null,
   "metadata": {},
   "outputs": [],
   "source": [
    "x = ('Glenn', 'Sally', 'Joseph')\n",
    "print(x[2])\n",
    "\n",
    "y = (1, 9, 2)\n",
    "print(y)\n",
    "\n",
    "print(max(y))\n",
    "\n",
    "for iter in y:\n",
    "    print(iter)"
   ]
  },
  {
   "cell_type": "markdown",
   "metadata": {},
   "source": [
    "## Tuples are \"immutable\"\n",
    "- Unlike a list, once you create a tuple, you cannot alter its contents, similar to a string"
   ]
  },
  {
   "cell_type": "code",
   "execution_count": null,
   "metadata": {},
   "outputs": [],
   "source": [
    "x = [9, 8, 7]\n",
    "x[2] = 6\n",
    "print(x)\n",
    "\n",
    "#Traceback error\n",
    "#y = 'ABC'\n",
    "#y[2] = 'D'\n",
    "\n",
    "#Traceback error\n",
    "#z = (5, 4, 3)\n",
    "#y[2] = 0"
   ]
  },
  {
   "cell_type": "markdown",
   "metadata": {},
   "source": [
    "## Things NOT to do with tuples\n",
    "- You can't sort them (.sort())\n",
    "- You can't append values (.append())\n",
    "- You can't change the order (.reverse())\n",
    "\n",
    "## A Tale of Two Sequences\n",
    "- With a list you can use several methods\n",
    "- With a tuple you can only use the count and index methods"
   ]
  },
  {
   "cell_type": "code",
   "execution_count": null,
   "metadata": {},
   "outputs": [],
   "source": [
    "l = list()\n",
    "dir(l)\n",
    "\n",
    "t = tuple()\n",
    "dir(t)"
   ]
  },
  {
   "cell_type": "markdown",
   "metadata": {},
   "source": [
    "## Tuples are more efficient\n",
    "- Since Python does not have to build tuple structures to be modifiable, they are simpler and more efficient in terms of memory use and performance than lists\n",
    "- So in our program when we are making \"temporary variables\" we prefer tuples over lists\n",
    "\n",
    "## Tuples and Assignment\n",
    "- We can also put a tuple on the left-hand side of an assignment statement\n",
    "- We can even omit the parentheses"
   ]
  },
  {
   "cell_type": "code",
   "execution_count": null,
   "metadata": {},
   "outputs": [],
   "source": [
    "(x, y) = (4, 'fred')\n",
    "print(y)\n",
    "\n",
    "(a, b) = (99, 98)\n",
    "print(a)"
   ]
  },
  {
   "cell_type": "markdown",
   "metadata": {},
   "source": [
    "## Tuples and Dictionaries\n",
    "- The items() method in dictionaries returns a list of (key, value) tuples"
   ]
  },
  {
   "cell_type": "code",
   "execution_count": null,
   "metadata": {},
   "outputs": [],
   "source": [
    "d = dict()\n",
    "d['csev'] = 2\n",
    "d['cwen'] = 4\n",
    "for (k,v) in d.items():\n",
    "    print(k,v)\n",
    "\n",
    "tups = d.items()\n",
    "print(tups)"
   ]
  },
  {
   "cell_type": "markdown",
   "metadata": {},
   "source": [
    "## Tuples are Comparable\n",
    "- The comparison operators work with tuples and other sequences. If the first item is equal, Python goes on to the next element, and so on, until it finds elements that differ"
   ]
  },
  {
   "cell_type": "code",
   "execution_count": null,
   "metadata": {},
   "outputs": [],
   "source": [
    "(0, 1, 2) < (5, 1, 2)\n",
    "(0, 1, 2000000) < (0, 3, 4)\n",
    "('Jones', 'Sally') < ('Jones', 'Sam')\n",
    "('Jones', 'Sally') < ('Adams', 'Sam')"
   ]
  },
  {
   "cell_type": "markdown",
   "metadata": {},
   "source": [
    "## Sorting Lists of Tuples\n",
    "- We can take advantage of the ability to sort a list of tuples to get a sorted version of a dictionary\n",
    "- First we sort the dictionary by the key using the items() method and sorted() function"
   ]
  },
  {
   "cell_type": "code",
   "execution_count": null,
   "metadata": {},
   "outputs": [],
   "source": [
    "d = {'a':10, 'c':22, 'b':1}\n",
    "d.items()\n",
    "\n",
    "sorted(d.items())"
   ]
  },
  {
   "cell_type": "markdown",
   "metadata": {},
   "source": [
    "## Uding sorted()\n",
    "- We can do this even more directly using the built-in function sorted that takes a sequence as a parameter and returns a sorted sequence"
   ]
  },
  {
   "cell_type": "code",
   "execution_count": 1,
   "metadata": {},
   "outputs": [
    {
     "name": "stdout",
     "output_type": "stream",
     "text": [
      "a 10\n",
      "b 1\n",
      "c 22\n"
     ]
    }
   ],
   "source": [
    "d = {'b':1, 'c':22, 'a':10}\n",
    "t = sorted(d.items())\n",
    "t\n",
    "for k, v in sorted(d.items()):\n",
    "    print(k, v)"
   ]
  },
  {
   "cell_type": "markdown",
   "metadata": {},
   "source": [
    "## Sort by values instead of key\n",
    "- If we could construct a list of tuples of the form (value, key) we could sort by value\n",
    "- We do this with a for loop that creates a list of tuples"
   ]
  },
  {
   "cell_type": "code",
   "execution_count": null,
   "metadata": {},
   "outputs": [],
   "source": [
    "c = {'a':10, 'c':22, 'b':1}\n",
    "tmp = list()\n",
    "for k, v in c.items():\n",
    "    tmp.append((v, k))\n",
    "print(tmp)\n",
    "\n",
    "tmp = sorted(tmp, reverse = True)\n",
    "print((tmp))"
   ]
  },
  {
   "cell_type": "code",
   "execution_count": null,
   "metadata": {},
   "outputs": [],
   "source": [
    "fhand = open(\"romeo.txt\")\n",
    "counts = dict()\n",
    "for line in fhand:\n",
    "    words = line.split()\n",
    "    for word in words:\n",
    "        counts[word] = counts.get(word, 0) + 1\n",
    "\n",
    "lst = list()\n",
    "for key, val in counts.items():\n",
    "    newtup = (val, key)\n",
    "    lst.append(newtup)\n",
    "\n",
    "lst = sorted(lst, reverse = True)\n",
    "\n",
    "for val, key in lst[:10]:\n",
    "    print(key, val)"
   ]
  },
  {
   "cell_type": "markdown",
   "metadata": {},
   "source": [
    "## Even shorter version\n",
    "- List comprehension creates a dynamic list. In this case, we make a list of reversed tuples and then sort it"
   ]
  },
  {
   "cell_type": "code",
   "execution_count": null,
   "metadata": {},
   "outputs": [],
   "source": [
    "c = {'a':10, 'c':22, 'b':1}\n",
    "print(sorted([(v,k) for k,v in c.items()]))"
   ]
  }
 ],
 "metadata": {
  "kernelspec": {
   "display_name": "Python 3",
   "language": "python",
   "name": "python3"
  },
  "language_info": {
   "codemirror_mode": {
    "name": "ipython",
    "version": 3
   },
   "file_extension": ".py",
   "mimetype": "text/x-python",
   "name": "python",
   "nbconvert_exporter": "python",
   "pygments_lexer": "ipython3",
   "version": "3.12.1"
  }
 },
 "nbformat": 4,
 "nbformat_minor": 2
}
