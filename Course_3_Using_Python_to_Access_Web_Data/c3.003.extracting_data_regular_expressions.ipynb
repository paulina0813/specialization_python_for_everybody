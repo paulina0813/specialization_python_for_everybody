{
 "cells": [
  {
   "cell_type": "markdown",
   "metadata": {},
   "source": [
    "# Matching and Extracting Data\n",
    "- re.search() returns a True/False depending on whether the string matches the regular expression\n",
    "If we actually want the matching strings to be extracted, we use re.findall()"
   ]
  },
  {
   "cell_type": "code",
   "execution_count": 2,
   "metadata": {},
   "outputs": [
    {
     "name": "stdout",
     "output_type": "stream",
     "text": [
      "['2', '19', '42']\n"
     ]
    }
   ],
   "source": [
    "import re\n",
    "x = 'My 2 favorite numbers are 19 and 42'\n",
    "y = re.findall('[0-9]+', x)\n",
    "print(y)"
   ]
  },
  {
   "cell_type": "markdown",
   "metadata": {},
   "source": [
    "The expression above finds all instances where there are any numbers (one or more) in x. Here the square brackets count as a single digit and they can contain a range, a series of characters, etc. [0-9] is a single digits but the + tells that it can be one or more.\n",
    "\n",
    "When we use re.findall(), it returns a list of zero or more sub-strings that match the regular expression"
   ]
  },
  {
   "cell_type": "code",
   "execution_count": 3,
   "metadata": {},
   "outputs": [],
   "source": [
    "import re\n",
    "y = re.findall('AEIOU+', x)"
   ]
  },
  {
   "cell_type": "markdown",
   "metadata": {},
   "source": [
    "In the code above we are looking for any uppercase vowel that is followed by one or more characters.\n",
    "\n",
    "## Warning: Greedy Matching\n",
    "The repeat characters(* and +) push outward in both directions (greedy) to match the largest possible string"
   ]
  },
  {
   "cell_type": "code",
   "execution_count": 5,
   "metadata": {},
   "outputs": [
    {
     "name": "stdout",
     "output_type": "stream",
     "text": [
      "['From: using the :']\n"
     ]
    }
   ],
   "source": [
    "import re\n",
    "x = 'From: using the : character'\n",
    "y = re.findall('^F.+:', x)\n",
    "print(y)"
   ]
  },
  {
   "cell_type": "markdown",
   "metadata": {},
   "source": [
    "In the code above, '^F.+:':\n",
    "- ^F = tells us the first character in the match is an F\n",
    "- .+ = tells us there is one or more characters after the F\n",
    "- : = tells us the last character in the match is a :\n",
    "\n",
    "While 'From:' is a match, since 'From: using the :' is also a match, findall will return the largest option. This is known as greedy matching, meaning as large as possible string\n",
    "\n",
    "\n",
    "## Non-Greedy Matching\n",
    "Not all regular expression repeat codes are greedy! If you add a ? character, the + and * chill out a bit"
   ]
  },
  {
   "cell_type": "code",
   "execution_count": 7,
   "metadata": {},
   "outputs": [
    {
     "name": "stdout",
     "output_type": "stream",
     "text": [
      "['From:']\n"
     ]
    }
   ],
   "source": [
    "import re\n",
    "x = 'From: using the : character'\n",
    "y = re.findall('^F.+?:', x)\n",
    "print(y)"
   ]
  },
  {
   "cell_type": "markdown",
   "metadata": {},
   "source": [
    "In the code above, '^F.+?:':\n",
    "- ^F = tells us the first character in the match is an F\n",
    "- .+? = tells us there is one or more characters after the F but not greedy\n",
    "- : = tells us the last character in the match is a :\n",
    "\n",
    "The not greedy matching prefers the shortest string option\n",
    "\n",
    "\n",
    "## Fine-Tuning String Extraction\n",
    "You can refine the ,atch for re.findall() and separately determine which portion of the match is to be extracted by using parenthesis"
   ]
  },
  {
   "cell_type": "code",
   "execution_count": 8,
   "metadata": {},
   "outputs": [
    {
     "name": "stdout",
     "output_type": "stream",
     "text": [
      "['stephen.marquard@uct.ac.za']\n"
     ]
    },
    {
     "name": "stderr",
     "output_type": "stream",
     "text": [
      "<>:3: SyntaxWarning: invalid escape sequence '\\S'\n",
      "<>:3: SyntaxWarning: invalid escape sequence '\\S'\n",
      "/var/folders/24/3_yglng17vd67xnd6d655y3h0000gp/T/ipykernel_55957/2901001219.py:3: SyntaxWarning: invalid escape sequence '\\S'\n",
      "  y = re.findall('\\S+@\\S+', x)\n"
     ]
    }
   ],
   "source": [
    "import re\n",
    "x = 'From stephen.marquard@uct.ac.za Sat Jan 5 09:14:16 2008'\n",
    "y = re.findall('\\S+@\\S+', x)\n",
    "print(y)"
   ]
  },
  {
   "cell_type": "markdown",
   "metadata": {},
   "source": [
    "In the code above:\n",
    "- '\\S+' = there is at least non-whitespace character before amd after the '@'\n",
    "\n",
    "If it was non greedy matching, the result would be 'd@u\" instead of 'stephen.marquard@uct.ac.za'\n",
    "\n",
    "\n",
    "### Parenthesis\n",
    "Parenthesis are not part of the match, but they will tell where to start and stop what string to extract"
   ]
  },
  {
   "cell_type": "code",
   "execution_count": 9,
   "metadata": {},
   "outputs": [
    {
     "name": "stdout",
     "output_type": "stream",
     "text": [
      "['stephen.marquard@uct.ac.za']\n"
     ]
    },
    {
     "name": "stderr",
     "output_type": "stream",
     "text": [
      "<>:3: SyntaxWarning: invalid escape sequence '\\S'\n",
      "<>:3: SyntaxWarning: invalid escape sequence '\\S'\n",
      "/var/folders/24/3_yglng17vd67xnd6d655y3h0000gp/T/ipykernel_55957/2765235786.py:3: SyntaxWarning: invalid escape sequence '\\S'\n",
      "  y = re.findall('^From (\\S+@\\S+)', x)\n"
     ]
    }
   ],
   "source": [
    "import re\n",
    "x = 'From stephen.marquard@uct.ac.za Sat Jan 5 09:14:16 2008'\n",
    "y = re.findall('^From (\\S+@\\S+)', x)\n",
    "print(y)"
   ]
  },
  {
   "cell_type": "markdown",
   "metadata": {},
   "source": [
    "Here, the 'From' is part of the match but the only portion of the string that is extracted is the one that matches what's inside the parenthesis."
   ]
  },
  {
   "cell_type": "code",
   "execution_count": 10,
   "metadata": {},
   "outputs": [
    {
     "name": "stdout",
     "output_type": "stream",
     "text": [
      "21\n"
     ]
    }
   ],
   "source": [
    "data = 'From stephen.marquard@uct.ac.za Sat Jan 5 09:14:16 2008'\n",
    "\n",
    "atpos = data.find('@')\n",
    "print(atpos)\n",
    "\n",
    "sppos = data.find(' ', atpos)\n",
    "print(sppos)\n",
    "\n",
    "host = data[atpos+1 : sppos]\n",
    "print(host)"
   ]
  },
  {
   "cell_type": "markdown",
   "metadata": {},
   "source": [
    "## The Double Split Pattern\n",
    "Sometimes we split a line one way, and then grab one of the pieces of the line an dsplit that piece again"
   ]
  },
  {
   "cell_type": "code",
   "execution_count": null,
   "metadata": {},
   "outputs": [],
   "source": [
    "line = 'From stephen.marquard@uct.ac.za Sat Jan 5 09:14:16 2008'\n",
    "\n",
    "words = line.split()\n",
    "email = words[1]\n",
    "pieces = email.split('@')\n",
    "print(pieces[1])"
   ]
  },
  {
   "cell_type": "markdown",
   "metadata": {},
   "source": [
    "## The Regex Version"
   ]
  },
  {
   "cell_type": "code",
   "execution_count": null,
   "metadata": {},
   "outputs": [],
   "source": [
    "import re\n",
    "\n",
    "lin = 'From stephen.marquard@uct.ac.za Sat Jan 5 09:14:16 2008'\n",
    "y = re.findall('@([^ ]*)', lin)\n",
    "print(y)"
   ]
  },
  {
   "cell_type": "markdown",
   "metadata": {},
   "source": [
    "In the code above, you will look through the string until you find an '@' sign.\n",
    "- '[^ ]' = match non-blank character\n",
    "- '*' = Match many of them\n",
    "\n",
    "## Even Cooler Regex Version"
   ]
  },
  {
   "cell_type": "code",
   "execution_count": null,
   "metadata": {},
   "outputs": [],
   "source": [
    "import re\n",
    "\n",
    "lin = 'From stephen.marquard@uct.ac.za Sat Jan 5 09:14:16 2008'\n",
    "y = re.findall('^From .*@([^ ]*)', lin)\n",
    "print(y)"
   ]
  },
  {
   "cell_type": "markdown",
   "metadata": {},
   "source": [
    "In the code above:\n",
    "- '^' = starting at the beginning of the line\n",
    "- 'From' = look for the string From\n",
    "- Then a space\n",
    "- '.*@' = any number of character up to an at\n",
    "- '([^ ]*)' = begin extracting all the non-blank characters and then end extracting\n",
    "\n",
    "## Spam Confidence"
   ]
  },
  {
   "cell_type": "code",
   "execution_count": 11,
   "metadata": {},
   "outputs": [
    {
     "name": "stdout",
     "output_type": "stream",
     "text": [
      "Maximum: 0.9907\n"
     ]
    }
   ],
   "source": [
    "import re\n",
    "\n",
    "hand = open('mbox-short-2.txt')\n",
    "numlist = list()\n",
    "\n",
    "for line in hand:\n",
    "    line = line.rstrip()\n",
    "    stuff = re.findall('^X-DSPAM-Confidence: ([0-9.]+)', line)\n",
    "    \n",
    "    if len(stuff) != 1:\n",
    "        continue\n",
    "    num = float(stuff[0])\n",
    "    numlist.append(num)\n",
    "print('Maximum:', max(numlist))\n",
    "\n",
    "\n",
    "##MINUTO 12:00"
   ]
  },
  {
   "cell_type": "markdown",
   "metadata": {},
   "source": [
    "# Escape Character\n",
    "If you want a special regular expression character to just behave normally (most of the time) you prefix it with '\\'"
   ]
  },
  {
   "cell_type": "code",
   "execution_count": 12,
   "metadata": {},
   "outputs": [
    {
     "name": "stdout",
     "output_type": "stream",
     "text": [
      "['$10.00']\n"
     ]
    },
    {
     "name": "stderr",
     "output_type": "stream",
     "text": [
      "<>:3: SyntaxWarning: invalid escape sequence '\\$'\n",
      "<>:3: SyntaxWarning: invalid escape sequence '\\$'\n",
      "/var/folders/24/3_yglng17vd67xnd6d655y3h0000gp/T/ipykernel_55957/1878950718.py:3: SyntaxWarning: invalid escape sequence '\\$'\n",
      "  y = re.findall('\\$[0-9.]+', x)\n"
     ]
    }
   ],
   "source": [
    "import re\n",
    "x = 'We just received $10.00 for cookies'\n",
    "y = re.findall('\\$[0-9.]+', x)\n",
    "print(y)"
   ]
  },
  {
   "cell_type": "markdown",
   "metadata": {},
   "source": [
    "In the code above:\n",
    "- '\\$\\ = a real dollar sign\n",
    "- '[0-9].' = a digit or period\n",
    "- '+' = at least one more character"
   ]
  }
 ],
 "metadata": {
  "kernelspec": {
   "display_name": "Python 3",
   "language": "python",
   "name": "python3"
  },
  "language_info": {
   "codemirror_mode": {
    "name": "ipython",
    "version": 3
   },
   "file_extension": ".py",
   "mimetype": "text/x-python",
   "name": "python",
   "nbconvert_exporter": "python",
   "pygments_lexer": "ipython3",
   "version": "3.12.1"
  }
 },
 "nbformat": 4,
 "nbformat_minor": 2
}
