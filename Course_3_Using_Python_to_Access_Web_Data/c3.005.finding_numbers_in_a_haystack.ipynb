{
 "cells": [
  {
   "cell_type": "markdown",
   "metadata": {},
   "source": [
    "**Finding Numbers in a Haystack**\n",
    "\n",
    "In this assignment you will read through and parse a file with text and numbers. You will extract all the numbers in the file and compute the sum of the numbers.\n",
    "\n",
    "**Data Files**\n",
    "We provide two files for this assignment. One is a sample file where we give you the sum for your testing and the other is the actual data you need to process for the assignment.\n",
    "\n",
    "- Sample data: http://py4e-data.dr-chuck.net/regex_sum_42.txt (There are 90 values with a sum=445833)\n",
    "- Actual data: http://py4e-data.dr-chuck.net/regex_sum_1958223.txt (There are 65 values and the sum ends with 97)\n",
    "\n",
    "These links open in a new window. Make sure to save the file into the same folder as you will be writing your Python program. **Note:** Each student will have a distinct data file for the assignment - so only use your own data file for analysis.\n",
    "\n",
    "**Data Format**\n",
    "The file contains much of the text from the introduction of the textbook except that random numbers are inserted throughout the text. Here is a sample of the output you might see:"
   ]
  },
  {
   "cell_type": "markdown",
   "metadata": {},
   "source": [
    "Why should you learn to write programs? 7746\n",
    "12 1929 8827\n",
    "Writing programs (or programming) is a very creative \n",
    "7 and rewarding activity.  You can write programs for \n",
    "many reasons, ranging from making your living to solving\n",
    "8837 a difficult data analysis problem to having fun to helping 128\n",
    "someone else solve a problem.  This book assumes that \n",
    "everyone needs to know how to program ..."
   ]
  },
  {
   "cell_type": "markdown",
   "metadata": {},
   "source": [
    "The sum for the sample text above is **27486**. The numbers can appear anywhere in the line. There can be any number of numbers in each line (including none).\n",
    "\n",
    "\n",
    "**Handling The Data**\n",
    "The basic outline of this problem is to read the file, look for integers using the **re.findall()**, looking for a regular expression of **'[0-9]+'** and then converting the extracted strings to integers and summing up the integers.\n",
    "\n",
    "**Turn in Assignent**\n",
    "\n",
    "Enter the sum from the actual data and your Python code below:"
   ]
  },
  {
   "cell_type": "code",
   "execution_count": 17,
   "metadata": {},
   "outputs": [
    {
     "name": "stdout",
     "output_type": "stream",
     "text": [
      "['3036', '7209', '4497', '6702', '8454', '7449', '3665', '7936', '9772', '7114', '956', '2564', '8003', '1704', '3816', '6662', '5858', '7777', '6482', '9634', '8805', '7123', '9703', '4676', '6373', '2834', '7221', '2981', '5415', '6872', '4806', '5460', '8533', '3538', '9663', '8001', '9795', '8752', '1117', '5349', '4509', '1004', '9258', '4183', '4034', '3342', '3482', '8567', '1052', '8135', '5561', '517', '1218', '4', '8877', '8062', '1720', '279', '2054', '801', '918', '8687', '7073', '1865', '7084', '2923', '63', '8824', '1079', '5801', '5047', '5', '2572', '5616', '171', '3062', '9552', '7655', '829', '6096', '2312', '6015', '7100', '9548', '2727', '1792', '8402', '4', '3', '42']\n",
      "445833\n"
     ]
    }
   ],
   "source": [
    "# Test Data\n",
    "import re\n",
    "\n",
    "file = open('regex_sum_42.txt')\n",
    "contents = file.read()\n",
    "\n",
    "numlist = re.findall('[0-9]+', contents)\n",
    "print(numlist)\n",
    "\n",
    "numsum = 0\n",
    "for num in numlist:\n",
    "    intnum = int(num)\n",
    "    numsum += intnum\n",
    "\n",
    "print(numsum)"
   ]
  },
  {
   "cell_type": "code",
   "execution_count": 18,
   "metadata": {},
   "outputs": [
    {
     "name": "stdout",
     "output_type": "stream",
     "text": [
      "['1459', '6892', '2441', '1846', '7417', '3226', '2509', '259', '9611', '6453', '6795', '8804', '3326', '214', '4902', '2352', '7182', '1062', '8250', '4890', '1143', '3303', '1011', '1811', '4304', '3480', '5800', '3602', '7439', '4', '5080', '9995', '6529', '2427', '8039', '8803', '7323', '4912', '1769', '1788', '5046', '9900', '6626', '7142', '8883', '1742', '9516', '9791', '3981', '4254', '1587', '3000', '947', '7449', '8134', '498', '6078', '8418', '7828', '9702', '289', '785', '4', '3', '42']\n",
      "300097\n"
     ]
    }
   ],
   "source": [
    "# Actual data\n",
    "import re\n",
    "\n",
    "file = open('regex_sum_1958223.txt')\n",
    "contents = file.read()\n",
    "\n",
    "numlist = re.findall('[0-9]+', contents)\n",
    "print(numlist)\n",
    "\n",
    "numsum = 0\n",
    "for num in numlist:\n",
    "    intnum = int(num)\n",
    "    numsum += intnum\n",
    "\n",
    "print(numsum)"
   ]
  }
 ],
 "metadata": {
  "kernelspec": {
   "display_name": "Python 3",
   "language": "python",
   "name": "python3"
  },
  "language_info": {
   "codemirror_mode": {
    "name": "ipython",
    "version": 3
   },
   "file_extension": ".py",
   "mimetype": "text/x-python",
   "name": "python",
   "nbconvert_exporter": "python",
   "pygments_lexer": "ipython3",
   "version": "3.12.1"
  }
 },
 "nbformat": 4,
 "nbformat_minor": 2
}
