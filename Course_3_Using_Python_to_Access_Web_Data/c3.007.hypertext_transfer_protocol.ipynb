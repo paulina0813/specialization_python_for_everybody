{
 "cells": [
  {
   "cell_type": "markdown",
   "metadata": {},
   "source": [
    "## Application Protocol\n",
    "- Since TCP (and Python) gives us a reliable socket, what do we want to do with the socket? What problem do we want to solve?\n",
    "- Appplication Protocols\n",
    "     - Mail\n",
    "     - World Wide Web"
   ]
  },
  {
   "cell_type": "markdown",
   "metadata": {},
   "source": [
    "## HTTP - Hypertext Transfer Protocol\n",
    "- The dominant Application Layer Protocol on the Internet\n",
    "- Invented for the Web - to retrieve HTML, images, documents, etc\n",
    "- Extended to be data in addition to documents - RSS, Web services, etc. Basic Concept - Make a Connection - Request a document - Retrieve the Document - Close the Connection"
   ]
  },
  {
   "cell_type": "markdown",
   "metadata": {},
   "source": [
    "## HTTP\n",
    "- The HyperText Transfer Protocol is the set of rules to allow browsers to retrieve web documents from servers over the internet"
   ]
  },
  {
   "cell_type": "markdown",
   "metadata": {},
   "source": [
    "## What is a Protocol?\n",
    "- A set of rules that all parties follow so we can predict each other's behavior\n",
    "- And not bump into each other:\n",
    "     - On two-way roads in USA, drive on the right-hand side of the road\n",
    "     - On two-way roads in the UK, driv eon the left-hand side of the road\n",
    "\n",
    "http://wwww.dr-chuck.com/page1.html\n",
    "- Protocol: http://\n",
    "- Host: wwww.dr-chuck.com\n",
    "- Document: /page1.html"
   ]
  },
  {
   "cell_type": "markdown",
   "metadata": {},
   "source": [
    "## Getting Data from the Server\n",
    "Each user click on an anchor tag witha an href= value to switch to a new page, the browser makes a connection to the web server and issues a \"GET\" request - to GET the content of the page at the specified URL.\n",
    "The server returns the HTML document to the brower which formats and displays the docuemnt to the user."
   ]
  },
  {
   "cell_type": "markdown",
   "metadata": {},
   "source": [
    "## Internet Standards\n",
    "- The standards for all of the Internet protocols (inner workings) are developed by an organization\n",
    "- Internet Engineering Task Force (IETF)\n",
    "- wwww.ietf.org\n",
    "- Standars are called \"RFCs\" - \"Request for Comments\""
   ]
  },
  {
   "cell_type": "markdown",
   "metadata": {},
   "source": [
    "## Making an HTTP request\n",
    "Connect to the server like www.dr-chuck.com\n",
    "Request a document (or the default document)\n",
    "     - GET http://www.dr-chuck.com/page1/htm HTTP/1.0\n",
    "     - GET http://www.mlive.com/ann-arbor/ HTTP/1.0\n",
    "     - GET http://www.facebook.com HTTP/1.0\n",
    "\n",
    "\n",
    "## An HTTP Request in Python"
   ]
  },
  {
   "cell_type": "code",
   "execution_count": null,
   "metadata": {},
   "outputs": [],
   "source": [
    "import socket\n",
    "\n",
    "mysock = socket.socket(socket.AF_INET, socket.SOCK_STREAM)\n",
    "mysock.connect(('data.pre4e.org', 80))\n",
    "cmd = 'GET http://data.pr4e.org/romeo.txt HTTP/1.0\\r\\n\\r\\n'.encode()\n",
    "mysock.send(cmd)\n",
    "\n",
    "while True:\n",
    "    data = mysock.recv(512)\n",
    "    if (len(data) < 1):\n",
    "        break\n",
    "    print(data.decode())\n",
    "mysock.close()"
   ]
  }
 ],
 "metadata": {
  "kernelspec": {
   "display_name": "Python 3",
   "language": "python",
   "name": "python3"
  },
  "language_info": {
   "codemirror_mode": {
    "name": "ipython",
    "version": 3
   },
   "file_extension": ".py",
   "mimetype": "text/x-python",
   "name": "python",
   "nbconvert_exporter": "python",
   "pygments_lexer": "ipython3",
   "version": "3.12.1"
  }
 },
 "nbformat": 4,
 "nbformat_minor": 2
}
