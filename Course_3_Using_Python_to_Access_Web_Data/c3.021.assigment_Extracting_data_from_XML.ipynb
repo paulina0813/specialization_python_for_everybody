{
 "cells": [
  {
   "cell_type": "markdown",
   "metadata": {},
   "source": [
    "## **Extracting Data from XML**\n",
    "\n",
    "In this assignment you will write a Python program somewhat similar to http://www.py4e.com/code3/geoxml.py. The program will prompt for a URL, read the XML data from that URL using urllib and then parse and extract the comment counts from the XML data, compute the sum of the numbers in the file.\n",
    "\n",
    "We provide two files for this assignment. One is a sample file where we give you the sum for your testing and the other is the actual data you need to process for the assignment.\n",
    "\n",
    "- Sample data: http://py4e-data.dr-chuck.net/comments_42.xml (Sum=2553)\n",
    "- Actual data: http://py4e-data.dr-chuck.net/comments_1958227.xml (Sum ends with 86)\n",
    "\n",
    "You do not need to save these files to your folder since your program will read the data directly from the URL. **Note:** Each student will have a distinct data url for the assignment - so only use your own data url for analysis.\n",
    "\n",
    "\n",
    "## **Data Format and Approach**\n",
    "The data consists of a number of names and comment counts in XML as follows:\n",
    "\n"
   ]
  },
  {
   "cell_type": "code",
   "execution_count": null,
   "metadata": {
    "vscode": {
     "languageId": "xml"
    }
   },
   "outputs": [],
   "source": [
    "<comment>\n",
    "    <name>Matthias</name>\n",
    "  <count>97</count>\n",
    "</comment>"
   ]
  },
  {
   "cell_type": "markdown",
   "metadata": {},
   "source": [
    "You are to look through all the < comment > tags and find the < count > values sum the numbers. The closest sample code that shows how to parse XML is geoxml.py. But since the nesting of the elements in our data is different than the data we are parsing in that sample code you will have to make real changes to the code.\n",
    "To make the code a little simpler, you can use an XPath selector string to look through the entire tree of XML for any tag named 'count' with the following line of code:"
   ]
  },
  {
   "cell_type": "raw",
   "metadata": {},
   "source": [
    "counts = tree.findall('.//count')"
   ]
  },
  {
   "cell_type": "markdown",
   "metadata": {},
   "source": [
    "Take a look at the Python ElementTree documentation and look for the supported XPath syntax for details. You could also work from the top of the XML down to the comments node and then loop through the child nodes of the comments node.\n",
    "\n",
    "\n",
    "### **Sample Execution**"
   ]
  },
  {
   "cell_type": "raw",
   "metadata": {},
   "source": [
    "$ python3 solution.py\n",
    "Enter location: http://py4e-data.dr-chuck.net/comments_42.xml\n",
    "Retrieving http://py4e-data.dr-chuck.net/comments_42.xml\n",
    "Retrieved 4189 characters\n",
    "Count: 50\n",
    "Sum: 2..."
   ]
  },
  {
   "cell_type": "markdown",
   "metadata": {},
   "source": [
    "# Assignment"
   ]
  },
  {
   "cell_type": "code",
   "execution_count": null,
   "metadata": {},
   "outputs": [],
   "source": [
    "import urllib.request as UR\n",
    "import urllib.parse, urllib.error\n",
    "import xml.etree.ElementTree as ET\n",
    "\n",
    "#Test data -   http://py4e-data.dr-chuck.net/comments_42.xml \n",
    "#Actual data -  http://py4e-data.dr-chuck.net/comments_1958227.xml\n",
    "\n",
    "url = input(\"Enter location: \")\n",
    "\n",
    "total_num = 0\n",
    "total_sum = 0\n",
    "\n",
    "print('Retrieving', url)\n",
    "xml = UR.urlopen(url).read()\n",
    "print('Retrieved', len(xml), 'characters')\n",
    "\n",
    "tree = ET.fromstring(xml)\n",
    "counts = tree.findall('.//count')\n",
    "for count in counts:\n",
    "    total_sum += int(count.text)\n",
    "    total_num += 1\n",
    "\n",
    "print('Count:', total_num)\n",
    "print('Sum:', total_sum)"
   ]
  }
 ],
 "metadata": {
  "language_info": {
   "name": "python"
  }
 },
 "nbformat": 4,
 "nbformat_minor": 2
}
