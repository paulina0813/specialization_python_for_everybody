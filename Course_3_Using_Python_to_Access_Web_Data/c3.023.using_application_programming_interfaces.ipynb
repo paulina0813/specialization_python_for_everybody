{
 "cells": [
  {
   "cell_type": "markdown",
   "metadata": {},
   "source": [
    "# There are Many APIs\n",
    "- There are organizations tyhat put up public APIs and sell access to those APIs\n",
    "- We will explore a geocoding API based on the OpenStreetMap data\n",
    "You need an account to access this API\n",
    "- There is a free level of requests\n",
    "- You pay above that rate of usage\n",
    "- https://geoapify.com/"
   ]
  },
  {
   "cell_type": "markdown",
   "metadata": {},
   "source": [
    "## An API Proxy\n",
    "- To avoid making you get an account, I have a well-hidden web server that acts as a proxy for the Geoapify data\n",
    "- This proxy does not require a password - but it does have rate limits and is heavily cached using an edge-caching service for performance\n",
    "\n",
    "Your code <-> cloudfare <-> py4e data <-> Geoapi"
   ]
  },
  {
   "cell_type": "code",
   "execution_count": 3,
   "metadata": {},
   "outputs": [
    {
     "name": "stdout",
     "output_type": "stream",
     "text": [
      "Retrieving https://py4e-data.dr-chuck.net/opengeo?q=Ann+Arbor%2C+MI\n",
      "Retrieved 1318 characters {\"type\":\"FeatureColl\n",
      "lat 42.2813722 lon -83.7484616\n",
      "Ann Arbor, MI, United States of America\n",
      "Retrieving https://py4e-data.dr-chuck.net/opengeo?q=Ann+Arbor%2C+MI\n",
      "Retrieved 1318 characters {\"type\":\"FeatureColl\n",
      "lat 42.2813722 lon -83.7484616\n",
      "Ann Arbor, MI, United States of America\n"
     ]
    }
   ],
   "source": [
    "import urllib.request, urllib.parse, urllib.error\n",
    "import xml.etree.ElementTree as ET\n",
    "import ssl\n",
    "import json\n",
    "\n",
    "api_key = False\n",
    "# If you have a Google Places API key, enter it here\n",
    "# api_key = 'AIzaSy___IDByT70'\n",
    "# https://developers.google.com/maps/documentation/geocoding/intro\n",
    "\n",
    "if api_key is False:\n",
    "    api_key = 42\n",
    "    serviceurl = 'http://py4e-data.dr-chuck.net/xml?'\n",
    "else :\n",
    "    serviceurl = 'https://maps.googleapis.com/maps/api/geocode/xml?'\n",
    "\n",
    "# Ignore SSL certificate errors\n",
    "ctx = ssl.create_default_context()\n",
    "ctx.check_hostname = False\n",
    "ctx.verify_mode = ssl.CERT_NONE\n",
    "\n",
    "while True:\n",
    "    address = input('Enter location: ')\n",
    "    if len(address) <  1:\n",
    "        break\n",
    "    address = address.strip()\n",
    "    parms = dict()\n",
    "    parms['q'] = address\n",
    "    \n",
    "    url = serviceurl + urllib.parse.urlencode(parms)\n",
    "    \n",
    "    print('Retrieving', url)\n",
    "    uh = urllib.request.urlopen(url, context=ctx)\n",
    "    data = uh.read().decode()\n",
    "    print('Retrieved', len(data), 'characters', data[:20].replace('\\n', ' '))\n",
    "    \n",
    "    js = json.loads(data)\n",
    "    \n",
    "    lat = js['features'][0]['properties']['lat']\n",
    "    lon = js['features'][0]['properties']['lon']\n",
    "    print('lat', lat, 'lon', lon)\n",
    "    location = js['features'][0]['properties']['formatted']\n",
    "    print(location)"
   ]
  },
  {
   "cell_type": "markdown",
   "metadata": {},
   "source": [
    "Retrieving https://py4e-data.dr-chuck.net/opengeo?q=Ann+Arbor%2C+MI\n",
    "\n",
    "Retrieved 1318 characters {\"type\":\"FeatureColl\n",
    "\n",
    "lat 42.2813722 lon -83.7484616\n",
    "\n",
    "Ann Arbor, MI, United States of America"
   ]
  },
  {
   "cell_type": "markdown",
   "metadata": {},
   "source": [
    "# Summary\n",
    "- Service Oriented Architecture - allows an application to be brokem into parts and distributed across a network\n",
    "- An Application Program Interface (API) is a contract for interaction\n",
    "- Web Services provide infrastructure for applications cooperating (an API) over a network - SOAP and REST are two styles of web services\n",
    "- XML and JSON are serialization formats"
   ]
  }
 ],
 "metadata": {
  "kernelspec": {
   "display_name": "Python 3",
   "language": "python",
   "name": "python3"
  },
  "language_info": {
   "codemirror_mode": {
    "name": "ipython",
    "version": 3
   },
   "file_extension": ".py",
   "mimetype": "text/x-python",
   "name": "python",
   "nbconvert_exporter": "python",
   "pygments_lexer": "ipython3",
   "version": "3.12.1"
  }
 },
 "nbformat": 4,
 "nbformat_minor": 2
}
