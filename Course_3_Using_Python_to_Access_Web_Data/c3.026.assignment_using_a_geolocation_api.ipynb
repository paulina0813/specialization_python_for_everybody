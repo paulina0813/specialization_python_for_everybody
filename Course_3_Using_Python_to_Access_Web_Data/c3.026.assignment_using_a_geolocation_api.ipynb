{
 "cells": [
  {
   "cell_type": "markdown",
   "metadata": {},
   "source": [
    "# **Calling a JSON API**\n",
    "\n",
    "In this assignment you will write a Python program somewhat similar to http://www.py4e.com/code3/opengeo.py. The program will prompt for a location, contact a web service and retrieve JSON for the web service and parse that data, and retrieve the first **plus_code** from the JSON. An Open Location Code is a textual identifier that is another form of address based on the location of the address.\n",
    "\n",
    "\n",
    "### **API End Points**\n",
    "\n",
    "To complete this assignment, you should use this API endpoint that has a static subset of the Open Street Map Data."
   ]
  },
  {
   "cell_type": "raw",
   "metadata": {},
   "source": [
    "http://py4e-data.dr-chuck.net/opengeo?"
   ]
  },
  {
   "cell_type": "markdown",
   "metadata": {},
   "source": [
    "This API also has no rate limit so you can test as often as you like. If you visit the URL with no parameters, you get \"No address...\" response.\n",
    "To call the API, you need to provide the address that you are requesting as the **q=** parameter that is properly URL encoded using the **urllib.parse.urlencode()** function as shown in http://www.py4e.com/code3/opengeo.py\n",
    "\n",
    "\n",
    "### **Test Data / Sample Execution**\n",
    "\n",
    "You can test to see if your program is working with a location of \"South Federal University\" which will have a **plus_code** of \"6FV8QPRJ+VQ\"."
   ]
  },
  {
   "cell_type": "raw",
   "metadata": {},
   "source": [
    "$ python solution.py\n",
    "Enter location: South Federal University\n",
    "Retrieving http://...\n",
    "Retrieved 1466 characters\n",
    "Plus code 6FV8QPRJ+VQ"
   ]
  },
  {
   "cell_type": "markdown",
   "metadata": {},
   "source": [
    "#### **Turn In**\n",
    "\n",
    "Please run your program to find the **plus_code** for this location:"
   ]
  },
  {
   "cell_type": "raw",
   "metadata": {},
   "source": [
    "City of Westminster College"
   ]
  },
  {
   "cell_type": "markdown",
   "metadata": {},
   "source": [
    "Make sure to enter the name and case exactly as above and enter the **plus_code** and your Python code below. Hint: The first five characters of the **plus_code** are \"9C3XG ...\"\n",
    "Make sure to retreive the data from the URL specified above and **not** the normal Google API. Your program should work with the Google API - but the **plus_code** may not match for this assignment.\n",
    "\n",
    "# Assignment"
   ]
  },
  {
   "cell_type": "code",
   "execution_count": 8,
   "metadata": {},
   "outputs": [
    {
     "name": "stdout",
     "output_type": "stream",
     "text": [
      "Retrieving https://py4e-data.dr-chuck.net/opengeo?q=City+of+Westminister+College\n",
      "Retrieved 1629 characters\n",
      "9C3XGRCG+G2\n",
      "Retrieving https://py4e-data.dr-chuck.net/opengeo?q=City+of+Westminister+College\n",
      "Retrieved 1629 characters\n",
      "9C3XGRCG+G2\n"
     ]
    }
   ],
   "source": [
    "import urllib.request, urllib.parse\n",
    "import json, ssl\n",
    "\n",
    "# Heavily rate limited proxy of https://www.geoapify.com/ api\n",
    "serviceurl = 'https://py4e-data.dr-chuck.net/opengeo?'\n",
    "\n",
    "# Ignore SSL certificate errors\n",
    "ctx = ssl.create_default_context()\n",
    "ctx.check_hostname = False\n",
    "ctx.verify_mode = ssl.CERT_NONE\n",
    "\n",
    "while True:\n",
    "    address = input('Enter location: ')\n",
    "    if len(address) < 1: break\n",
    "\n",
    "    address = address.strip()\n",
    "    parms = dict()\n",
    "    parms['q'] = address\n",
    "\n",
    "    url = serviceurl + urllib.parse.urlencode(parms)\n",
    "\n",
    "    print('Retrieving', url)\n",
    "    uh = urllib.request.urlopen(url, context=ctx)\n",
    "    data = uh.read().decode()\n",
    "    print('Retrieved', len(data), 'characters')\n",
    "\n",
    "    try:\n",
    "        js = json.loads(data)\n",
    "    except:\n",
    "        js = None\n",
    "\n",
    "    if not js or 'features' not in js:\n",
    "        print('==== Download error ===')\n",
    "        print(data)\n",
    "        break\n",
    "\n",
    "    if len(js['features']) == 0:\n",
    "        print('==== Object not found ====')\n",
    "        print(data)\n",
    "        break\n",
    "\n",
    "    # print(json.dumps(js, indent=4))\n",
    "    \n",
    "    print(js[\"features\"][0][\"properties\"][\"plus_code\"])\n"
   ]
  }
 ],
 "metadata": {
  "kernelspec": {
   "display_name": "Python 3",
   "language": "python",
   "name": "python3"
  },
  "language_info": {
   "codemirror_mode": {
    "name": "ipython",
    "version": 3
   },
   "file_extension": ".py",
   "mimetype": "text/x-python",
   "name": "python",
   "nbconvert_exporter": "python",
   "pygments_lexer": "ipython3",
   "version": "3.12.1"
  }
 },
 "nbformat": 4,
 "nbformat_minor": 2
}
