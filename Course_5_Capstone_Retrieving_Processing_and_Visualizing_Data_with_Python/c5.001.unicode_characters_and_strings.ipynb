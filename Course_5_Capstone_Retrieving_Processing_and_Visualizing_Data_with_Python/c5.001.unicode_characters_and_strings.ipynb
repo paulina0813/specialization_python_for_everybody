{
 "cells": [
  {
   "cell_type": "markdown",
   "metadata": {},
   "source": [
    "# ASCII\n",
    "\n",
    "ASCII is the American Standard Code for Information Interchange and there's a conversion table that tells you this number equals this letter\n",
    "\n",
    "## Representing Simple Strings\n",
    "\n",
    "- Each character is represented by a umber between 0 and 256 stored in 8 bits of memory\n",
    "- We refer to \"8 bits od memory  - (i.e. my disk drive contains 3 Terabytes of memory)\n",
    "- The ord() functions tells us the numeric value of a simple ASCII character"
   ]
  },
  {
   "cell_type": "code",
   "execution_count": 1,
   "metadata": {},
   "outputs": [
    {
     "name": "stdout",
     "output_type": "stream",
     "text": [
      "72\n",
      "101\n",
      "10\n"
     ]
    }
   ],
   "source": [
    "# ord corresponds to ordinal, it tells us which number corresponds to the character\n",
    "print(ord('H'))\n",
    "\n",
    "print(ord('e'))\n",
    "\n",
    "print(ord('\\n'))"
   ]
  },
  {
   "cell_type": "markdown",
   "metadata": {},
   "source": [
    "For the default old school 128 characters that we could represent in ASCII had a lower ordinal than lowercase letters, so \"Hi\" < \"aaa\" because all upper case letters are less than all upper case letters."
   ]
  }
 ],
 "metadata": {
  "kernelspec": {
   "display_name": "Python 3",
   "language": "python",
   "name": "python3"
  },
  "language_info": {
   "codemirror_mode": {
    "name": "ipython",
    "version": 3
   },
   "file_extension": ".py",
   "mimetype": "text/x-python",
   "name": "python",
   "nbconvert_exporter": "python",
   "pygments_lexer": "ipython3",
   "version": "3.12.1"
  }
 },
 "nbformat": 4,
 "nbformat_minor": 2
}
