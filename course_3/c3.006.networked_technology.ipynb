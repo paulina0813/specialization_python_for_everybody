{
 "cells": [
  {
   "cell_type": "markdown",
   "metadata": {},
   "source": [
    "# Network Data\n",
    "\n",
    "## Transport Control Protocol (TCP)\n",
    "\n",
    "- Built on top of IP (Internet Protocol)\n",
    "- Assumes IP might lose some data - stores and retransmits data if it seems to be lost\n",
    "- Handles \"flow control\" using a transmit window\n",
    "- Provides a nice reliable pipe"
   ]
  },
  {
   "cell_type": "markdown",
   "metadata": {},
   "source": [
    "## TCP Connections / Sockets\n",
    "\n",
    "- Communications between two applications\n",
    "- In computer networking, an internet socket or network socket is an endpoint of a bidirectional inter-prpcess communication flow across an Internet Protocol-based computer network, such as the Internet"
   ]
  },
  {
   "cell_type": "markdown",
   "metadata": {},
   "source": [
    "## TCP Port Numbers\n",
    "- A port is an application-specific or process-specific software communications endpoint\n",
    "- It allows multiple networked applications to coexist on the same server\n",
    "- There is a list of well-known TCP port numbers"
   ]
  },
  {
   "cell_type": "markdown",
   "metadata": {},
   "source": [
    "## Common TCP Ports\n",
    "- Telnet (23) - Login\n",
    "- SSH (22) - Secure Login\n",
    "- HTTP (80)\n",
    "- HTTPS (443) - Secure\n",
    "- SMTP (25) (Mail)\n",
    "- IMAP (143/220/993) - Mail Retrieval\n",
    "- POP (109/110) - Mail Retrieval\n",
    "- DNS (53) Domain Name\n",
    "- FTP (21) - File Transfer"
   ]
  },
  {
   "cell_type": "markdown",
   "metadata": {},
   "source": [
    "## Sockets in Python\n",
    "- Python has a built-in support for TCP Sockets"
   ]
  },
  {
   "cell_type": "code",
   "execution_count": null,
   "metadata": {},
   "outputs": [],
   "source": [
    "import socket\n",
    "mysock = socket.socket(socket.AF_INET, socket.SOCK_STREAM)\n",
    "mysock.connect( ('data.pr4e.org', 80) ) #Host: data.pr4e.org, Port: 80"
   ]
  }
 ],
 "metadata": {
  "language_info": {
   "name": "python"
  }
 },
 "nbformat": 4,
 "nbformat_minor": 2
}
