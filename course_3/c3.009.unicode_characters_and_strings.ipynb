{
 "cells": [
  {
   "cell_type": "markdown",
   "metadata": {},
   "source": [
    "# ASCII\n",
    "American Standard Code for Information Interchange\n",
    "\n",
    "## Representing Simple Strings\n",
    "- Each character is represented by a number between 0 and 256 stored in 8 bits of memory\n",
    "- We refer to \"8 bits of memory\" as a \"byte\" of memory - (i.e. my disk drive contains 3 Terabytes of memory)\n",
    "- The ord() function tels us the numeric value of a simple ASCII character"
   ]
  },
  {
   "cell_type": "code",
   "execution_count": 1,
   "metadata": {},
   "outputs": [
    {
     "name": "stdout",
     "output_type": "stream",
     "text": [
      "72\n",
      "101\n",
      "10\n"
     ]
    }
   ],
   "source": [
    "print(ord('H')) #prints the number corresponding to H\n",
    "print(ord('e')) #prints the number corresponding to e\n",
    "print(ord('\\n')) #prints the number corresponding to new line"
   ]
  },
  {
   "cell_type": "markdown",
   "metadata": {},
   "source": [
    "This is why the lower case letters are greater than the upper case letters, because they're ordinal and originally there were only upper case letters, so lower case letters have bigger numbers.\n",
    "\n",
    "With this setup it was really hard to communicate with computers in other regions"
   ]
  },
  {
   "cell_type": "markdown",
   "metadata": {},
   "source": [
    "# Unicode\n",
    "It's the universal code for hundreds of millions of different characters and hundreds f different character sets\n",
    "- Abstraction of all possible different characters and different ways of representing them inside of computers"
   ]
  },
  {
   "cell_type": "markdown",
   "metadata": {},
   "source": [
    "# Multi-Byte Characters\n",
    "- To represent the wide range of characters computers must handle we represent characers with more than one byte\n",
    "     - UTF-16 - Fixed length - Two bytes\n",
    "     - UTF-32 - Fixed length - Four bytes\n",
    "     - UTF-8 - 1-4 bytes\n",
    "          - Upwards compatible with ASCII\n",
    "          - Automatic detection between ASCII and UTF-8\n",
    "          - UTF-8 is recommended practice for encoding data to be exchanged between systems"
   ]
  },
  {
   "cell_type": "markdown",
   "metadata": {},
   "source": [
    "# Python 3 and Unicode\n",
    "- In Python 3, all strings internally are UNICODE\n",
    "- Working with string variables in Python programs and reading data from files usually \"just works\"\n",
    "- When we talk to a network resource using sockets or talk to a database we have to encode and decode data (usually to UTF-8)"
   ]
  },
  {
   "cell_type": "markdown",
   "metadata": {},
   "source": [
    "# Python Strings to Bytes\n",
    "- When we talk about an external resource like a network socket we send bytes, so we need to encode Python 3 strings into a given character encoding\n",
    "- When we read data from an external resource, we must decode it based on the character set so it is properly represented in Python 3 as a string\n",
    "- .decode() turns bytes into unicode, or UTF-8 or ASCII\n",
    "- .encode() turns the unicode into bytes\n",
    "- Before you send something, you have to encode it and when you receive something you have to decode it\n",
    "\n",
    "String Unicode -> encode() -> bytes UTF-8 -> send() -> Socket(Network) \n",
    "Socket(Network) -> recv() -> Bytes UTF-8 -> decode() -> String Unicode"
   ]
  }
 ],
 "metadata": {
  "kernelspec": {
   "display_name": "Python 3",
   "language": "python",
   "name": "python3"
  },
  "language_info": {
   "codemirror_mode": {
    "name": "ipython",
    "version": 3
   },
   "file_extension": ".py",
   "mimetype": "text/x-python",
   "name": "python",
   "nbconvert_exporter": "python",
   "pygments_lexer": "ipython3",
   "version": "3.12.1"
  }
 },
 "nbformat": 4,
 "nbformat_minor": 2
}
