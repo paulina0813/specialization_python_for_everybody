{
 "cells": [
  {
   "cell_type": "markdown",
   "metadata": {},
   "source": [
    "## ASCII\n",
    "- Americam Standard Code for Information Interchange\n",
    "- It basucally says this number equals this letter\n",
    "\n",
    "## Representing Simple Strings\n",
    "- Each character is represented by a number between 0 and 256 stored in 8 bits of memory\n",
    "- we refer to \"8 bits of memory\" as a \"byte\" of memory - (i.e. my disk drive contains 3 Terabytes of memory)\n",
    "- The ord() functions tells us the numeric balue of a simple ASCII character"
   ]
  },
  {
   "cell_type": "code",
   "execution_count": 1,
   "metadata": {},
   "outputs": [
    {
     "name": "stdout",
     "output_type": "stream",
     "text": [
      "72\n",
      "101\n",
      "10\n"
     ]
    }
   ],
   "source": [
    "print(ord('H'))\n",
    "print(ord('e'))\n",
    "print(ord('\\n'))"
   ]
  },
  {
   "cell_type": "markdown",
   "metadata": {},
   "source": [
    "Because all lower case letters have a higher ordinal value than upper case letters, then:\n",
    "aaa > Hi\n",
    "\n",
    "In the 1960s and 1970s, we just assumed that one byte was one character."
   ]
  },
  {
   "cell_type": "markdown",
   "metadata": {},
   "source": [
    "# Unicode\n",
    "- It's a universal code for hundreds of of millions of different characters and hundreds of character sets\n",
    "- It has a lot more than 128 character sets\n",
    "- it allowed computers from all over the world to talk to each other and exchange data\n",
    "\n",
    "## Multi-Byte Characters\n",
    "- To represent the wide range of characters computers must handle we represent characters with more than one byte\n",
    "    - UTF-16: Fixed length - Two bytes\n",
    "    - UTF-32: Fixed length - Four bytes\n",
    "    - UTF-8: 1-4 bytes\n",
    "        - Upwards compatible with ACII\n",
    "        - Automatic detection between ASCII and UTF-8\n",
    "        - UTF- is recommended practice for encoding data to be exchanged between systems\n",
    "        - If you are using the same characters that are avaialable in ASCII, then ASCII and UTF-8 are the same thing\n",
    "\n",
    "## Two Kinds of Strings in Python\n",
    "- There was a normal string and a unicode string. In Python 2.7.10, if you wrote:\n",
    "x = 'string'\n",
    "type(x)\n",
    "It would print < type 'str' >\n",
    "If you wrote:\n",
    "x = u'string'\n",
    "print(x)\n",
    "Then it would print < type 'unicode' >\n",
    "In Python 3, in both cases it would print < class 'str' > and in Python 3, all strings are unicode\n",
    "\n",
    "In Python 2 characters and bytes are the same thing because in the old days a character and a byte were the same thing. Which is why in Python 2:\n",
    "x = b'abc'\n",
    "type(x)\n",
    "It would print < type 'str' > and:\n",
    "x = 'abc'\n",
    "type(x)\n",
    "Would also print < type 'str'\n",
    "\n",
    "In Python 3 the first one would print < class 'bytes' > and the second one would print < class 'str'>\n",
    "\n",
    "## Python 3 and Unicode\n",
    "\n",
    "- In Python 3, all strings internally are UNICODE.\n",
    "- Working with string variables in Python programs and reading data from files usually \"just works\"\n",
    "- When we talk to a network resource using sockets or talk to a database we have to encode and decode data (usually to UTF-8)\n",
    "\n",
    "## Python Strings to Bytes\n",
    "\n",
    "- When we talk to an external resource like a network socket we send bytes, so we need to encode Python 3 strings into a given character encoding\n",
    "- When we read data from an external resource, we must decode it based on the character set so it is properly represented in Python 3 as a string"
   ]
  },
  {
   "cell_type": "raw",
   "metadata": {},
   "source": [
    "while True:\n",
    "    data = mysock.recv(512)\n",
    "    if len(data) < 1:\n",
    "        break\n",
    "    mystring = data.decode()\n",
    "    print(mystring)"
   ]
  },
  {
   "cell_type": "markdown",
   "metadata": {},
   "source": [
    "decode() by default assumes UTF-8 or ASCII and most of the times it's one of those two, it's very rare to get one that's neither of those two.\n",
    "\n",
    "\n",
    "In the code above, it goes from bytes to unicode:\n",
    "- data = mysock.recv(512) is bytes\n",
    "- mystring is unicode\n",
    "\n",
    "## An HTTP Request in Python"
   ]
  },
  {
   "cell_type": "code",
   "execution_count": null,
   "metadata": {},
   "outputs": [],
   "source": [
    "import socket\n",
    "\n",
    "mysock = socket.socket(socket.AF_INET, socket.SOCK_STREAM)\n",
    "mysock.connect(('data.pr4e.org', 80))\n",
    "cmd = 'GET http://data.pr4e.org/romeo.txt HTTP/1.0\\n\\n'.encode() #encode() takes the string and turns it into bytes\n",
    "mysock.send(cmd)\n",
    "\n",
    "while True:\n",
    "    data = mysock.recv(512)\n",
    "    if len(data) < 1:\n",
    "        break\n",
    "    mystring = data.decode()\n",
    "    print(mystring)"
   ]
  },
  {
   "cell_type": "markdown",
   "metadata": {},
   "source": [
    "In the code above, encode() takes the string and turns it into bytes, encoded in UTF-8\n",
    "\n",
    "When we receive data we decode it, and when we send data we encode it.\n",
    "- decode() is a method in the bytes class\n",
    "- encode() is a method in the string class\n",
    "\n",
    "Sending data:\n",
    "string unicode -encode()-> bytes UTF-8 -send()-> socket (Network)\n",
    "\n",
    "Getting data back:\n",
    "socket (Network) -recv()-> bytes UTF-8 -decode()-> string unicode"
   ]
  },
  {
   "cell_type": "code",
   "execution_count": 7,
   "metadata": {},
   "outputs": [
    {
     "name": "stdout",
     "output_type": "stream",
     "text": [
      "116\n"
     ]
    }
   ],
   "source": [
    "print(ord('t'))"
   ]
  }
 ],
 "metadata": {
  "kernelspec": {
   "display_name": "Python 3",
   "language": "python",
   "name": "python3"
  },
  "language_info": {
   "codemirror_mode": {
    "name": "ipython",
    "version": 3
   },
   "file_extension": ".py",
   "mimetype": "text/x-python",
   "name": "python",
   "nbconvert_exporter": "python",
   "pygments_lexer": "ipython3",
   "version": "3.12.1"
  }
 },
 "nbformat": 4,
 "nbformat_minor": 2
}
