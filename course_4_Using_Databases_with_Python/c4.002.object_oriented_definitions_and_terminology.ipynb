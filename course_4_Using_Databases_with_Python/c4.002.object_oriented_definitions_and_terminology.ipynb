{
 "cells": [
  {
   "cell_type": "markdown",
   "metadata": {},
   "source": [
    "# Object Oriented\n",
    "\n",
    "- A program is made up of many cooperating objects\n",
    "- Instead of being the \"whole program\" - each object is a little \"island\" within the program and cooperatively working with other objects\n",
    "- A program is made up of one or more objects working together - objects make use of each other's capabilities\n",
    "\n",
    "## Object\n",
    "- An Object is a bit of self-scontained Code and Data\n",
    "- a key aspect of the Object appreach is to break the problem into smaller understandable parts (divide and conquer)\n",
    "- Objects have boundaries that allow is to ignore un-needed detail\n",
    "- We have been using objects all along: String Objects, Integer Objects, Dictionary Objects, List Objects...\n",
    "- Objects get created and used\n",
    "- Objects are bits of code and data\n",
    "- Objects hide detail - they allow us to gnore the detail of the \"rest of the program\"\n",
    "- Objects hide detail - they allow the \"rest of the program\" to ognore the detail about \"us\"\n",
    "\n",
    "## Definitions\n",
    "\n",
    "- Class - a template. It's the actual code that defines how an object is going to behave but it's not the object itself\n",
    "- Method or Message - defined capability of a class. it's used to either call some code inside the class or to send a message to the class which activates some code inside the class.\n",
    "- Field or attribute - a bit of data in a class. Used to pull some data out of the class\n",
    "- Object or Instance - a particular instance of a class.\n",
    "\n",
    "### Terminology: **Class**\n",
    "\n",
    "Defines the abstract characteristic of a thing (object), including the thing's characteristics (its attributes, fields, or properties) and the thing's behaviors (the things it can do, or methods, operations or features). One might say that a class is a blueprint or factory that describes the nature of something. For example, the class Dog would consist of traits shared by all dogs, such as breed and fur color (characteristics), and the ability to bark and sit (behaviors).\n",
    "\n",
    "### Terminology: **Instance**\n",
    "\n",
    "One can have an instance of a class or particular object. The instance is the actual object created at runtime. In programer jargon, the Lassie object is an instance of the Dog class. The set of values of the attributes of a particualr object is called its state. The object consists of state and the behavior that's defined in the object's class.\n",
    "- Object and Instance are often used interchangeably\n",
    "- The instance is the thing that stores the data\n",
    "- We usually create the class and use the class to create objects, and then we use teh objects. We barely interact with classes\n",
    "\n",
    "### Terminology: **Method**\n",
    "\n",
    "An object's abilities. In language, methods are verbs. Lassie being a Dog, has the ability to bark. So bark() is one of Lassie's methods. She may have other methods as well, for example sit() or eat() or walk() or save_timmy(). Within the program, using a method usually affects only one particular object; all Dogs can bark, but you need one particular dog to do the barking.\n",
    "- Method and Message are often used interchangeably\n",
    "- The method is telling the object to do something\n",
    "\n",
    "## Our First Class and Object\n",
    "\n",
    "- Class is a reserved word that defines a template for making objects\n",
    "- When the object is constructed, a specially named method is called to allocate and initialize attributes\n",
    "- Construct a PartyAnimal object and store in an PartyAnimal.party(an)\n",
    "- Each PartyAnimal object has a bit of code\n",
    "- Tell the an onject to run the party() code within it"
   ]
  },
  {
   "cell_type": "code",
   "execution_count": 2,
   "metadata": {},
   "outputs": [
    {
     "name": "stdout",
     "output_type": "stream",
     "text": [
      "So far 1\n",
      "So far 2\n",
      "So far 3\n"
     ]
    }
   ],
   "source": [
    "# you have the class and the name of the class you're creating\n",
    "class PartyAnimal:\n",
    "    # both of those defs are methods of the class or functions scoped to the class\n",
    "    # The double underscore when defining the function name is a way to let Python know that it has a special meaning\n",
    "    # This is a specially named method that Pythod is going to call when you are created\n",
    "    # self is the instance\n",
    "    # This is a constructor method, which helps set up the class\n",
    "    def __init__(self):\n",
    "        # x is the only attribute we have\n",
    "        self.x = 0\n",
    "    def party(self):\n",
    "        self.x = self.x + 1\n",
    "        #The print is not executed until the method is called\n",
    "        print(\"So far\", self.x)\n",
    "\n",
    "# initializes the constructed\n",
    "an = PartyAnimal()\n",
    "\n",
    "#now we have an instance or object of the class PartyAnimal and we call the  party method inside of it\n",
    "# at this point an and self are pointing to the same thing\n",
    "an.party() # this is the same as doing PartyAnimal.party(an)\n",
    "an.party()\n",
    "an.party()"
   ]
  },
  {
   "cell_type": "markdown",
   "metadata": {},
   "source": [
    "- def makes functions and it's a reserved word\n",
    "- class makes classes and it's a reserved word\n",
    "\n",
    "Creating a class is just creating a capability within Python\n",
    "\n",
    "## A nerdy Way to Find Capabilities\n",
    "\n",
    "- The dir() command lists capabilities\n",
    "- Ignore the ones with underscores- these are used by Python itself\n",
    "- The rest are real operations that the object can perform\n",
    "- It is like a type() - it tells us something *about* a variable"
   ]
  },
  {
   "cell_type": "code",
   "execution_count": null,
   "metadata": {},
   "outputs": [],
   "source": [
    "y = list()\n",
    "type(y)\n",
    "\n",
    "dir(y)"
   ]
  },
  {
   "cell_type": "markdown",
   "metadata": {},
   "source": [
    "We can use dir() to find the \"capabilities\" of our newly created class"
   ]
  },
  {
   "cell_type": "code",
   "execution_count": 3,
   "metadata": {},
   "outputs": [
    {
     "name": "stdout",
     "output_type": "stream",
     "text": [
      "Type <class '__main__.PartyAnimal'>\n",
      "Dir ['__class__', '__delattr__', '__dict__', '__dir__', '__doc__', '__eq__', '__format__', '__ge__', '__getattribute__', '__getstate__', '__gt__', '__hash__', '__init__', '__init_subclass__', '__le__', '__lt__', '__module__', '__ne__', '__new__', '__reduce__', '__reduce_ex__', '__repr__', '__setattr__', '__sizeof__', '__str__', '__subclasshook__', '__weakref__', 'party', 'x']\n",
      "Type <class 'int'>\n",
      "Type <class 'method'>\n"
     ]
    }
   ],
   "source": [
    "class PartyAnimal:\n",
    "    def __init__(self):\n",
    "        self.x = 0\n",
    "    def party(self):\n",
    "        self.x = self.x + 1\n",
    "        print(\"So far\", self.x)\n",
    "an = PartyAnimal()\n",
    "\n",
    "print(\"Type\", type(an))\n",
    "print(\"Dir\", dir(an))\n",
    "print(\"Type\", type(an.x))\n",
    "print(\"Type\", type(an.party))"
   ]
  }
 ],
 "metadata": {
  "kernelspec": {
   "display_name": "Python 3",
   "language": "python",
   "name": "python3"
  },
  "language_info": {
   "codemirror_mode": {
    "name": "ipython",
    "version": 3
   },
   "file_extension": ".py",
   "mimetype": "text/x-python",
   "name": "python",
   "nbconvert_exporter": "python",
   "pygments_lexer": "ipython3",
   "version": "3.12.1"
  }
 },
 "nbformat": 4,
 "nbformat_minor": 2
}
