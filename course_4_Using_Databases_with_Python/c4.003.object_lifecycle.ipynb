{
 "cells": [
  {
   "cell_type": "markdown",
   "metadata": {},
   "source": [
    "# Object Lifecycle\n",
    "\n",
    "- Objects are created, used and discarded\n",
    "- We have special blocks of code (methods) that get called\n",
    "    - At the moment of creation (constructor)\n",
    "    - At the moment of destruction (destructor)\n",
    "- Constructors are used a lot\n",
    "- Destructors are seldom used\n",
    "- Destruction is often used to get the memory back\n",
    "\n",
    "## Constructor\n",
    "\n",
    "- The primary purpose of the constructor is to set up some instance variables to have proper initial values when the object is created"
   ]
  },
  {
   "cell_type": "code",
   "execution_count": 1,
   "metadata": {},
   "outputs": [
    {
     "name": "stdout",
     "output_type": "stream",
     "text": [
      "I am constructed\n",
      "So far 1\n",
      "So far 2\n",
      "I am destructed 2\n",
      "an contains 42\n"
     ]
    }
   ],
   "source": [
    "class PartyAnimal:\n",
    "    def __init__(self):\n",
    "        self.x = 0 \n",
    "        print(\"I am constructed\")\n",
    "    \n",
    "    def party(self):\n",
    "        self.x = self.x + 1\n",
    "        print(\"So far\", self.x)\n",
    "        \n",
    "    def __del__(self):\n",
    "        print(\"I am destructed\", self.x)\n",
    "\n",
    "an = PartyAnimal()\n",
    "an.party()\n",
    "an.party()\n",
    "# before an = 42, an was an object\n",
    "# when we say an = 42, that object is gone\n",
    "# an WAS a PartyAnimal object and now it's putting a 42 in there, so the object gets destructed\n",
    "# In this case the destructor method is called by overwriting an\n",
    "an = 42\n",
    "print('an contains', an)"
   ]
  },
  {
   "cell_type": "markdown",
   "metadata": {},
   "source": [
    "## Many Instances\n",
    "\n",
    "- We can create lots of objects - the class is the template for the object\n",
    "- We can store each distinct object in its own variable\n",
    "- We call this having multiple instances of the same class\n",
    "- Each instance has its own copy of the instance variables\n",
    "- Constructors can have additional parameters.\n",
    "    - These can be used to set up instance variables for the particular instance of the class (i.e. for the particular object)"
   ]
  },
  {
   "cell_type": "code",
   "execution_count": 4,
   "metadata": {},
   "outputs": [
    {
     "name": "stdout",
     "output_type": "stream",
     "text": [
      "Sally constructed\n",
      "Sally party count 1\n",
      "Jim constructed\n",
      "Jim party count 1\n",
      "Sally party count 2\n"
     ]
    }
   ],
   "source": [
    "class PartyAnimal:\n",
    "    def __init__(self, z):\n",
    "        self.x = 0 \n",
    "        self.name = z\n",
    "        print(self.name, \"constructed\")\n",
    "    \n",
    "    def party(self):\n",
    "        self.x = self.x + 1\n",
    "        print(self.name, \"party count\", self.x)\n",
    "\n",
    "s = PartyAnimal(\"Sally\")\n",
    "s.party()\n",
    "j = PartyAnimal(\"Jim\")\n",
    "\n",
    "j.party()\n",
    "s.party()"
   ]
  }
 ],
 "metadata": {
  "kernelspec": {
   "display_name": "Python 3",
   "language": "python",
   "name": "python3"
  },
  "language_info": {
   "codemirror_mode": {
    "name": "ipython",
    "version": 3
   },
   "file_extension": ".py",
   "mimetype": "text/x-python",
   "name": "python",
   "nbconvert_exporter": "python",
   "pygments_lexer": "ipython3",
   "version": "3.12.1"
  }
 },
 "nbformat": 4,
 "nbformat_minor": 2
}
