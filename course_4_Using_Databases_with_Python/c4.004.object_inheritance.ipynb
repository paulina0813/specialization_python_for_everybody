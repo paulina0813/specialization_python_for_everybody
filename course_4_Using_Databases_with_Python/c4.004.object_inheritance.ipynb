{
 "cells": [
  {
   "cell_type": "markdown",
   "metadata": {},
   "source": [
    "# Object Inheritance\n",
    "\n",
    "- When we make a new class - we can reuse an existing class and inherit all the capabilities of an existing class and then add our own little bit to make our new class\n",
    "- Another form of store and reuse\n",
    "- Write once - reuse many times\n",
    "- The new class (child) has all the capabilities of thw old class (parent) - and then some more\n",
    "\n",
    "## Terminology: **Inheritance**\n",
    "\n",
    "- 'Subclasses' are more specialized versions of a class, which inherit attributes and behaviors from their parent classes, and can introduce their own."
   ]
  },
  {
   "cell_type": "code",
   "execution_count": 1,
   "metadata": {},
   "outputs": [
    {
     "name": "stdout",
     "output_type": "stream",
     "text": [
      "Sally constructed\n",
      "Sally party count 1\n",
      "Jim constructed\n",
      "Jim party count 1\n",
      "Jim party count 2\n",
      "Jim points 7\n"
     ]
    }
   ],
   "source": [
    "class PartyAnimal:\n",
    "    def __init__(self, nam):\n",
    "        self.x = 0\n",
    "        self.name = nam\n",
    "        print(self.name, \"constructed\")\n",
    "    \n",
    "    def party(self):\n",
    "        self.x = self.x + 1\n",
    "        print(self.name, \"party count\", self.x)\n",
    "\n",
    "class FootballFan(PartyAnimal):\n",
    "    def __init__(self, nam):\n",
    "        # This calls the init method in the PartyAnimal class\n",
    "        # Intialize the class PartyAnimal\n",
    "        # This makes sure that we have all the attributes needed for PartyAnimal to function are there\n",
    "        super().__init__(nam)\n",
    "        # At the end of the creation, a football fan will have an x, a name, and points\n",
    "        self.points = 0\n",
    "    \n",
    "    def touchdown(self):\n",
    "        self.points = self.points + 7\n",
    "        # The method party() is in AprtyAnimal but because FootballFan has inherited PartyAnimal, it has also inherited everything that is in PartyAnimal\n",
    "        self.party()\n",
    "        print(self.name, \"points\", self.points)\n",
    "\n",
    "s = PartyAnimal(\"Sally\")\n",
    "s.party()\n",
    "\n",
    "j = FootballFan(\"Jim\")\n",
    "j.party()\n",
    "j.touchdown()"
   ]
  },
  {
   "cell_type": "markdown",
   "metadata": {},
   "source": [
    "In the code above, FootballFan is a class which extends PartyAnimal. It has all the capabilities of PartyAnimal and more\n",
    "\n",
    "### Definitions\n",
    "\n",
    "- Class - a template\n",
    "- Attribute - a variable within a class\n",
    "- Method - a function within a class\n",
    "- Object - a particular instance of a class\n",
    "- Constructor - code that runs when an object is created\n",
    "- Inheritance - the ability to extend a class to make a new class\n",
    "\n",
    "### Summry\n",
    "\n",
    "- Object Oriented programming is a very structured approach to code reuse\n",
    "- We can group data and functionality together and create many independent instances of a class"
   ]
  }
 ],
 "metadata": {
  "kernelspec": {
   "display_name": "Python 3",
   "language": "python",
   "name": "python3"
  },
  "language_info": {
   "codemirror_mode": {
    "name": "ipython",
    "version": 3
   },
   "file_extension": ".py",
   "mimetype": "text/x-python",
   "name": "python",
   "nbconvert_exporter": "python",
   "pygments_lexer": "ipython3",
   "version": "3.12.1"
  }
 },
 "nbformat": 4,
 "nbformat_minor": 2
}
