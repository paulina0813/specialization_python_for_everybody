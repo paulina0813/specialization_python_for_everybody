{
 "cells": [
  {
   "cell_type": "markdown",
   "metadata": {},
   "source": [
    "# Relational Databases\n",
    "\n",
    "Relational databases model data by storing rows and columns in tables. The power of the relational database lies in its ability to efficiently retrieve data from thos tables and in particular where there are multiple tab;es and the relationships between those tables involved in the query.\n",
    "\n",
    "## Terminology\n",
    "\n",
    "- **Database** - contains many tables\n",
    "- **Relation (or table)** - contains tuples and attributes\n",
    "- **Tuple (or row)** - a set of fields that generally represents an \"object\" like a person or a music track\n",
    "- **Attribute (also column or field)** - one of possibly manu elements of data corresponding to the object represented by the row\n",
    "\n",
    "A **relation** is defined as a **set of tuples** that have the same **attributes**. A **tuple** usually represents **an object** and information about that object. **Objects** are typically physical objects or concepts. A **relation** is usually described as a **table**, which is organized into **rows** and **columns**. All the data_referenced by an **attribute** are in the same domain and **conform to the same constraints**.\n",
    "\n",
    "# SQL\n",
    "\n",
    "- Structured Query Language (SQL) is the language we use to issue commands to the database.\n",
    "    - Create a table\n",
    "    - Retrieve some data\n",
    "    - Insert data - Update\n",
    "    - Delete data\n",
    "\n",
    "Python is a great way to clean data and SQL is a great way to store and retrieve data."
   ]
  }
 ],
 "metadata": {
  "language_info": {
   "name": "python"
  }
 },
 "nbformat": 4,
 "nbformat_minor": 2
}
