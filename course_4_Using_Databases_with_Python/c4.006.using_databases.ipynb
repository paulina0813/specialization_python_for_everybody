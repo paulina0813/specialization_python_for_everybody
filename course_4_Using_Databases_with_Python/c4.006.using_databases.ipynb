{
 "cells": [
  {
   "cell_type": "markdown",
   "metadata": {},
   "source": [
    "# Two Roles in Large Projects\n",
    "\n",
    "- **Application Developer** - Builds the logic for the application, the look and feel of the application - monitors the application for problems\n",
    "- **Database Administrator** - Monitors and adjusts the database as the program runs in production\n",
    "- Often both people participate in building the \"Data model\"\n",
    "\n",
    "\n",
    "## Database Adminisrator (dba)\n",
    "\n",
    "A database administrator (DBA) is a person responsible for the design, implementation, maintenance, and repair of an organization's database. The role includes the development and design of database strategies, monitoring and improving database performance and capacity, and planning for future expansion requirements. They may also plan, coordinate, and implement security measures to safeguard the database.\n",
    "\n",
    "# Database Model\n",
    "\n",
    "A **database model** or **database schema** is the **structure or format of a database**, described in a formal language supported by the database management system. I other words, a \"database model\" is the application of a data model when used in conjunction with a database management system.\n",
    "\n",
    "# Common Database Systems\n",
    "\n",
    "- Three Major Database Management Systems in wide use\n",
    "    - **Oracle** - Large, commercial, enterprise-scale, very very tweakable\n",
    "    - **MySql** - Simpler but very fast and scalable - commercial open source\n",
    "    - **SqlServer** - Very nice - from Microsoft (also Access)\n",
    "- Many other smaller projects, free and open source\n",
    "    - HSQL, SQLite, Postgress, ...\n",
    "\n",
    "# SQLite browser\n",
    "\n",
    "- SQLite is a very popular database - it is free and fast and small\n",
    "- SQLite Browser allows us to directly manipulate SQLite files\n",
    "\n",
    "## Start Simple - A Single Table"
   ]
  },
  {
   "cell_type": "code",
   "execution_count": null,
   "metadata": {
    "vscode": {
     "languageId": "sql"
    }
   },
   "outputs": [],
   "source": [
    "CREATE TABLE Users(\n",
    "\tname VARCHAR(128),\n",
    "\temail VARCHAR(128)\n",
    ")"
   ]
  },
  {
   "cell_type": "markdown",
   "metadata": {},
   "source": [
    "Putting data into the table we just created. The table is called \"Users\" and it has 2 variables: name and email. For each of these variables you can put up to 128 characters. We manually inserted 4 records into the table using SQLite browser. We can insert more records using the user interface.\n",
    "\n",
    "## SQL Insert\n",
    "\n",
    "- The insert statement inserts a row into a table"
   ]
  },
  {
   "cell_type": "code",
   "execution_count": null,
   "metadata": {
    "vscode": {
     "languageId": "sql"
    }
   },
   "outputs": [],
   "source": [
    "INSERT INTO Users(name, email) VALUES ('Kristin', 'kf@umich.edu')"
   ]
  },
  {
   "cell_type": "markdown",
   "metadata": {},
   "source": [
    "## SQL Delete\n",
    "\n",
    "- Deletes a row in a table based on a selection criteria"
   ]
  },
  {
   "cell_type": "code",
   "execution_count": null,
   "metadata": {
    "vscode": {
     "languageId": "sql"
    }
   },
   "outputs": [],
   "source": [
    "DELETE FROM Users WHERE email = 'fred@umich.edu'"
   ]
  },
  {
   "cell_type": "markdown",
   "metadata": {},
   "source": [
    "## SQL Update\n",
    "\n",
    "- Allows the updating of a field with a where clause"
   ]
  },
  {
   "cell_type": "code",
   "execution_count": null,
   "metadata": {
    "vscode": {
     "languageId": "sql"
    }
   },
   "outputs": [],
   "source": [
    "UPDATE Users SET name = 'Charles' WHERE email = 'csev@umich.edu'"
   ]
  },
  {
   "cell_type": "markdown",
   "metadata": {},
   "source": [
    "## Retrieving Records: Select\n",
    "\n",
    "- The select statement retrieves a group of records - you can either retrieve all the records or a subset of the records with a WHERE clause."
   ]
  },
  {
   "cell_type": "code",
   "execution_count": null,
   "metadata": {
    "vscode": {
     "languageId": "sql"
    }
   },
   "outputs": [],
   "source": [
    "SELECT * FROM Users\n",
    "SELECT * FROM Users WHERE email = 'csev@umich.edu'"
   ]
  },
  {
   "cell_type": "markdown",
   "metadata": {},
   "source": [
    "## Sorting with ORDER BY\n",
    "\n",
    "- You can add an ORDER BY clause to SELECT statements to get the results sorted in ascending or descending order "
   ]
  },
  {
   "cell_type": "code",
   "execution_count": null,
   "metadata": {
    "vscode": {
     "languageId": "sql"
    }
   },
   "outputs": [],
   "source": [
    "SELECT * FROM Users ORDER BY name\n",
    "SELECT * FROM Users ORDER BY email"
   ]
  },
  {
   "cell_type": "markdown",
   "metadata": {},
   "source": [
    "# SQL Summary\n",
    "\n",
    "CREATE TABLE Users(name VARCHAR(128), email VARCHAR(128))\n",
    "\n",
    "INSERT INTO Users(name, email) VALUES ('Kristin', 'kf@umich.edu') - Insert new records into the table\n",
    "\n",
    "DELETE FROM Users WHERE email = 'fred@umich.edu' - Delete the row(s) in the table where the email is 'fred@umich.edu'\n",
    "\n",
    "UPDATE Users SET name = 'Charles' WHERE email = 'csev@umich.edu' - It updates the value in the name column for the row(s) where the email is csev@umich.edu\n",
    "\n",
    "SELECT * FROM Users - Retrieves all the rows and columns from the table users\n",
    "\n",
    "SELECT * FROM Users WHERE email = 'csev@umich.edu' - Retrieves all the rows and columns from the table users where the email is csev@umich.edu\n",
    "\n",
    "SELECT * FROM Users ORDER BY name - Retrieves all the rows and columns from the table users and orders them in descending order by name\n",
    "\n",
    "SELECT * FROM Users ORDER BY email - Retrieves all the rows and columns from the table users"
   ]
  }
 ],
 "metadata": {
  "language_info": {
   "name": "python"
  }
 },
 "nbformat": 4,
 "nbformat_minor": 2
}
