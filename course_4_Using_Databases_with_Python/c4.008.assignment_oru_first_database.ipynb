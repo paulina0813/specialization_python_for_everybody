{
 "cells": [
  {
   "cell_type": "markdown",
   "metadata": {},
   "source": [
    "# **Instructions**\n",
    "\n",
    "If you don't already have it, install the SQLite Browser from http://sqlitebrowser.org/.\n",
    "\n",
    "Then, create a SQLITE database or use an existing database and create a table in the database called \"Ages\":"
   ]
  },
  {
   "cell_type": "code",
   "execution_count": null,
   "metadata": {
    "vscode": {
     "languageId": "sql"
    }
   },
   "outputs": [],
   "source": [
    "CREATE TABLE Ages ( \n",
    "  name VARCHAR(128), \n",
    "  age INTEGER\n",
    ")"
   ]
  },
  {
   "cell_type": "markdown",
   "metadata": {},
   "source": [
    "Then make sure the table is empty by deleting any rows that you previously inserted, and insert these rows and only these rows with the following commands:"
   ]
  },
  {
   "cell_type": "code",
   "execution_count": null,
   "metadata": {
    "vscode": {
     "languageId": "sql"
    }
   },
   "outputs": [],
   "source": [
    "DELETE FROM Ages;\n",
    "INSERT INTO Ages (name, age) VALUES ('Lila', 32);\n",
    "INSERT INTO Ages (name, age) VALUES ('Eirian', 15);\n",
    "INSERT INTO Ages (name, age) VALUES ('Roxanna', 21);\n",
    "INSERT INTO Ages (name, age) VALUES ('Finnen', 16);"
   ]
  },
  {
   "cell_type": "markdown",
   "metadata": {},
   "source": [
    "Once the inserts are done, run the following SQL command:"
   ]
  },
  {
   "cell_type": "code",
   "execution_count": null,
   "metadata": {
    "vscode": {
     "languageId": "sql"
    }
   },
   "outputs": [],
   "source": [
    "SELECT hex(name || age) AS X FROM Ages ORDER BY X"
   ]
  },
  {
   "cell_type": "markdown",
   "metadata": {},
   "source": [
    "Find the **first** row in the resulting record set and enter the long string that looks like **53656C696E613333**.\n",
    "**Note:** This assignment must be done using SQLite - in particular, the SELECT query above will not work in any other database. So you cannot use MySQL or Oracle for this assignment."
   ]
  },
  {
   "cell_type": "markdown",
   "metadata": {},
   "source": [
    "# **Answer: 45697269616E3135**"
   ]
  }
 ],
 "metadata": {
  "language_info": {
   "name": "python"
  }
 },
 "nbformat": 4,
 "nbformat_minor": 2
}
