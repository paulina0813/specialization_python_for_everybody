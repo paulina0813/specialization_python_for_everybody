{
 "cells": [
  {
   "cell_type": "markdown",
   "metadata": {},
   "source": [
    "# Database Design\n",
    "\n",
    "- Dataabse design is an art form of its own with particular skills and experience\n",
    "- Our goal is to avoid the really bad mistakes and design clean and easily inderstood databases\n",
    "- Others may performance tune things later\n",
    "- Database design starts with a picture\n",
    "\n",
    "\n",
    "# Building a Data Model\n",
    "- Drawing a picture of the data objects for our application and then figuring out how to represent the objects and their relationships\n",
    "- Basic rule: don't put the same string data in twice - use a relationship instead\n",
    "- When there is one thing in the \"real world\" there should be one copy of that thing in the database.\n",
    "\n",
    "# For each \"piece of info\"..\n",
    "- Is the column an object or an attribute of another object?\n",
    "- Once we define objects, we need to define the relationships between objects\n",
    "\n",
    "# Terminology\n",
    "- **Primary key:** the key for which there's one unique key for every row. It's used as the way point to that row in other tables. Its the ending point of the arrow.\n",
    "- **Foreign key:** a column that we add to be the starting point of the arrows\n",
    "- **Logical key:** that unique thing we might use to look up this row from the outside world"
   ]
  },
  {
   "cell_type": "code",
   "execution_count": null,
   "metadata": {},
   "outputs": [],
   "source": []
  }
 ],
 "metadata": {
  "language_info": {
   "name": "python"
  }
 },
 "nbformat": 4,
 "nbformat_minor": 2
}
