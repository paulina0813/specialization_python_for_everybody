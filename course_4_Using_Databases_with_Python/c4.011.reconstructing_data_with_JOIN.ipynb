{
 "cells": [
  {
   "cell_type": "markdown",
   "metadata": {},
   "source": [
    "# Relational Power\n",
    "\n",
    "- By removing the replicated data and replacing it with references to a single copy of each bit of data we build a \"web\" of information that the relational database can read through very quickly - even for very large amounts of data.\n",
    "\n",
    "- Often when you want some data it comes from a number of tables linked by these foreign keys.\n",
    "\n",
    "\n",
    "## The JOIN Operation in SQL\n",
    "\n",
    "- The JOIN operation links across several tables as part of a select operation\n",
    "- You must tell the JOIN how to use the keys that make the connection between the tables using an ON clause"
   ]
  },
  {
   "cell_type": "raw",
   "metadata": {},
   "source": [
    "SELECT Album.title, Artist.name FROM Album join Artist ON Album.artist_id = Artist.id"
   ]
  },
  {
   "cell_type": "markdown",
   "metadata": {},
   "source": [
    "In the code above we are trying to connect the album and the artist:\n",
    "- What we want to see: Album.title, Artist.name\n",
    "- The tables that hold the data: Album, Artist\n",
    "- How the tables are linked: Album.artist_id = Artist_id"
   ]
  },
  {
   "cell_type": "raw",
   "metadata": {},
   "source": [
    "SELECT Album.title, Album.artist_id, Artist.id, Artist.name FROM Album join Artist ON Album.artist_id = Artist.id"
   ]
  },
  {
   "cell_type": "markdown",
   "metadata": {},
   "source": [
    "In the code above:\n",
    "- What we want to see: Album.title, Album.artist_id, Artist.id, Artist.name\n",
    "- The tables that hold the data: Album, Artist\n",
    "- How the tables are linked: Album.artist_id = Artist_id"
   ]
  },
  {
   "cell_type": "markdown",
   "metadata": {},
   "source": [
    "With the next query we'll try to connect the Track's title and the Genre's name:"
   ]
  },
  {
   "cell_type": "raw",
   "metadata": {},
   "source": [
    "SELECT Track.title, Genre.name FROM Track join Genre ON Track.genre_id = Genre.id"
   ]
  },
  {
   "cell_type": "markdown",
   "metadata": {},
   "source": [
    "- What we want to see: Track.title, Genre.name\n",
    "- The tables that hold the data: Track, Genre\n",
    "- How the tables are linked: Track.genre_id = Genre.id"
   ]
  },
  {
   "cell_type": "markdown",
   "metadata": {},
   "source": [
    "## Removing ON Clause\n",
    "- If you remove the ON clause, you get all combinations of all the data\n",
    "- Joining two tables without an ON clause gives all possible combinations of rows."
   ]
  },
  {
   "cell_type": "raw",
   "metadata": {},
   "source": [
    "SELECT Track.title, Track.genre_id, Genre.id, Genre.name FROM Track join Genre"
   ]
  },
  {
   "cell_type": "markdown",
   "metadata": {},
   "source": [
    "## It can get complex..."
   ]
  },
  {
   "cell_type": "raw",
   "metadata": {},
   "source": [
    "SELECT Track.title, Artist.name, Album.title, Genre.name\n",
    "FROM Track join Genre join Album join Artist\n",
    "ON Track.genre_id = Genre.id \n",
    "AND Track.album_id = Album.id\n",
    "AND Album.artist_id = Artist.id"
   ]
  },
  {
   "cell_type": "markdown",
   "metadata": {},
   "source": [
    "- What we want to see: Track.title, Artist.name, Album.title, Genre.name\n",
    "- The tables that hold the data: Track, Genre, Album, Artist\n",
    "- How the tables are linked: Track.genre_id = Genre.id and Track_album_id = Album.id and Album.artist_id = Artist.id"
   ]
  }
 ],
 "metadata": {
  "language_info": {
   "name": "python"
  }
 },
 "nbformat": 4,
 "nbformat_minor": 2
}
