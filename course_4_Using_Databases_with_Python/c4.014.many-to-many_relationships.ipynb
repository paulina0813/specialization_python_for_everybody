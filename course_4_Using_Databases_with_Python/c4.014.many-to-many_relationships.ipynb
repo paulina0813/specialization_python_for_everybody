{
 "cells": [
  {
   "cell_type": "markdown",
   "metadata": {},
   "source": [
    "# Many to Many relationships in SQL\n",
    "\n",
    "- Sometimes we need to model a relationship that is many-to-many \n",
    "- We need to add a \"connection\" table with two foreign keys\n",
    "- There is usually no separate primary key"
   ]
  },
  {
   "cell_type": "raw",
   "metadata": {},
   "source": [
    "Course title (many) <----------------------------> (many) User / name / email \n",
    "\n",
    "Course (one)                                    (many) Member (many)                                    (one) User\n",
    "- id              <-------------------------   - user_id               ------------------------->      - id\n",
    "- title                                        - course_id                                             - name\n",
    "                                                                                                       - email"
   ]
  },
  {
   "cell_type": "markdown",
   "metadata": {},
   "source": [
    "We don't need to put an ID for the member table because we can make a composite key, which is, both foreign keys are the primary key for the table. Sometimes we can add additional data to the connection table to add context. For example, one might add a role column to define if the user is a student or an instructor.\n"
   ]
  },
  {
   "cell_type": "raw",
   "metadata": {},
   "source": [
    "# Start with a Fresh Database\n",
    "\n",
    "CREATE TABLE User (\n",
    "    id    INTEGER NOT NULL PRIMARY KEY AUTOINCREMENT UNIQUE,\n",
    "    name    TEXT,\n",
    "    email    TEXT\n",
    ")\n",
    "\n",
    "CREATE TABLE Course (\n",
    "    id    INTEGER NOT NULL PRIMARY KEY AUTOINCREMENT UNIQUE,\n",
    "    title TEXT\n",
    ")\n",
    "\n",
    "CREATE TABLE Member (\n",
    "    user_id    INTEGER,\n",
    "    course_id    INTEGER,\n",
    "    role    INTEGER,\n",
    "    PRIMARY KEY (user_id, course_id)\n",
    ")"
   ]
  },
  {
   "cell_type": "raw",
   "metadata": {},
   "source": [
    "# Insert Users and Courses\n",
    "\n",
    "INSERT INTO User (name, email) VALUES ('Jane', 'jane@tsugi.org');\n",
    "INSERT INTO User (name, email) VALUES ('Ed', 'ed@tsugi.org');\n",
    "INSERT INTO User (name, email) VALUES ('Sue', 'sue@tsugi.org');\n",
    "\n",
    "INSERT INTO Course (title) VALUES ('Python');\n",
    "INSERT INTO Course (title) VALUES ('SQL');\n",
    "INSERT INTO Course (title) VALUES ('PHP');\n"
   ]
  },
  {
   "cell_type": "raw",
   "metadata": {},
   "source": [
    "# Insert Memberships\n",
    "\n",
    "# For role, 1 is an instructor and 0 is a student\n",
    "\n",
    "INSERT INTO Member (user_id, course_id, role) VALUES (1, 1, 1);\n",
    "INSERT INTO Member (user_id, course_id, role) VALUES (2, 1, 0);\n",
    "INSERT INTO Member (user_id, course_id, role) VALUES (3, 1, 0);\n",
    "\n",
    "INSERT INTO Member (user_id, course_id, role) VALUES (1, 2, 0);\n",
    "INSERT INTO Member (user_id, course_id, role) VALUES (2, 2, 1);\n",
    "\n",
    "INSERT INTO Member (user_id, course_id, role) VALUES (2, 3, 1);\n",
    "INSERT INTO Member (user_id, course_id, role) VALUES (3, 3, 0);"
   ]
  },
  {
   "cell_type": "raw",
   "metadata": {},
   "source": [
    "# Get some data out of those databases\n",
    "\n",
    "SELECT\n",
    "    User.name,\n",
    "    Member.role,\n",
    "    Course.title\n",
    "FROM\n",
    "    User JOIN Member JOIN Course\n",
    "ON\n",
    "    Member.user_id = User.id AND Member.course_id = Course.id\n",
    "ORDER BY\n",
    "    Course.title, Member.role DESC, User.name"
   ]
  }
 ],
 "metadata": {
  "language_info": {
   "name": "python"
  }
 },
 "nbformat": 4,
 "nbformat_minor": 2
}
