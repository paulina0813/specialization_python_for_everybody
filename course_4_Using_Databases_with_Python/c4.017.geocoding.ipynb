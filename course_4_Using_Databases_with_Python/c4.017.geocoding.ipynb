{
 "cells": [
  {
   "cell_type": "markdown",
   "metadata": {},
   "source": [
    "# Multi-Step Data Analysis\n",
    "1. You gather data from the data source\n",
    "2. You insert the gathered data into a database\n",
    "3. You clean/process the data on the database\n",
    "4. You analyze the data\n",
    "5. You visualize the data\n",
    "\n",
    "## Many Data Mining Technologies\n",
    "- https://hadoop.apache.org/\n",
    "- http://spark.apache.org/\n",
    "- https://aws.amazon.com/redshift/\n",
    "- http://community.pentaho.com/\n",
    "\n",
    "## \"Personal Data Mining\"\n",
    "Our goal is to make you better programmers - not to make you data mining experts\n",
    "\n",
    "## GeoCoding\n",
    "In geocoding, you can put any address in and eventually it's a pin on the map\n",
    "\n",
    "### OpenGeo\n",
    "- Makes an annotated Open Street Map from user enetered data\n",
    "- Uses the proxied GeoAPI API\n",
    "Caches data in a database to avoid rate limiting and allow restarting\n",
    "- Visualized in a browser using the Open Street Map\n",
    "- https://www.py4e.com/code3/opengeo.zip\n",
    "- In the next activity, this is what we're going to do:\n",
    "        1. We're going to use the proxy GeoAPI data\n",
    "        2. In order to avoid getting in trouble with rate limits, we're going to copy it into our local database that can be restarted\n",
    "        3. Visualize it in the browser using OpenStreet Map"
   ]
  },
  {
   "cell_type": "markdown",
   "metadata": {},
   "source": [
    "# Activity Description\n",
    "we're going to use the proxy GeoAPI data so that you don't get in trouble with rate limits, you're going to copy it into your local database that can be restarted, and then you can visualize it in the browser. One of the nice things about the two phase process is you can pull in a couple hundred things and then you can play with the visualization. You don't have to wait till you pull all the things in. You'll use Open Street Map to visualize it. This is the code that you're going to run. We got an application called geoload.py. When geoload.py takes a list of locations, and this is where you're going to modify it. It takes a list of locations to go and look up the geocoding. Your assignment will be to add a single item to where.data, then run geoload.py, which will go get all the ones that are already in where.data plus yours. That's going to build a database called geodata.sqlite. Again, that first process that geoload.py is a restartable process. You can hit control C or control Z depending on your operating system, and it can be run and it can blow up. Then you'll start it back up and you'll notice it's smart enough to not do the same thing twice. Because it looks in geodata.sqlite and says, oh, I already got that one. It's an efficient, restartable, spidering like process. In this case, it's spidering an API versus spidering web pages. At any moment in time, you can stop geoload and then run geodump. What geodump is, it's kind of the parsing of the data that's in sqlite and it both prints it out so you can see what you've got in there. It prints out the locations that you looked up, including the address. This is a list of universities basically, and the address of that university, I think this might be the data from 2013. This is the 2013 data from a survey that we did about where students were coming from. Geodump reads through geodata.sqlite and it dumps out the data and it's also parsing the data because if you recall, the Open Street Map is a pretty big thing, but what you're seeing there is a down sampling of that data on the printout, and it's also writing a file where.js. The where.js is a JavaScript array basically that has all these positions, etc. That is where.js gets rewritten every time you write the application. Then if you just open where.html, and I give you all these things in opengeo.zip, that glo, geodump, where.js, where.html. Then when you open up where.htm, it reads where.js and puts a bunch of pins in the thing, including the pin that you added for the location that you added to where.data. There you are. You could use this to visualize anything. You could just come up with your where.data, which is a bunch of geolocations that you want geocoded. "
   ]
  },
  {
   "cell_type": "markdown",
   "metadata": {},
   "source": [
    "# Summary\n",
    "- We have explored many aspects of accessing data on the web from Python\n",
    "- This is only the beginning - you can take this in a lot of diffrent directions"
   ]
  },
  {
   "cell_type": "code",
   "execution_count": null,
   "metadata": {},
   "outputs": [],
   "source": []
  }
 ],
 "metadata": {
  "language_info": {
   "name": "python"
  }
 },
 "nbformat": 4,
 "nbformat_minor": 2
}
